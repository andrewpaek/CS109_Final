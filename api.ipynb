{
 "cells": [
  {
   "cell_type": "code",
   "execution_count": 2,
   "metadata": {
    "collapsed": false
   },
   "outputs": [],
   "source": [
    "########## SET-UP ##########\n",
    "\n",
    "# necessary libraries\n",
    "import os\n",
    "import json\n",
    "import requests\n",
    "import time\n",
    "import datetime\n",
    "\n",
    "# INSERT YOUR API KEY HERE\n",
    "KEY = 'b00c992b-6fc1-4795-abcc-7db85c1b72fa'\n"
   ]
  },
  {
   "cell_type": "code",
   "execution_count": 113,
   "metadata": {
    "collapsed": false
   },
   "outputs": [],
   "source": [
    "jaemin_recent_games = get_recent_games('na', 61281860)\n",
    "jaemin_teams = get_teams_by_summonerid('na', 61281860)\n",
    "#print jaemin_recent_games.text\n",
    "#print jaemin_teams.text"
   ]
  },
  {
   "cell_type": "code",
   "execution_count": 2,
   "metadata": {
    "collapsed": false
   },
   "outputs": [],
   "source": [
    "########## Champion ID to Champion Name converter ##########\n",
    "\n",
    "# GET the static data on champion keys and names\n",
    "static_champ_data = requests.get(\"https://global.api.pvp.net/api/lol/static-data/na/v1.2/champion?locale=en_US&api_key=b00c992b-6fc1-4795-abcc-7db85c1b72fa\").json()\n",
    "champs = static_champ_data['data']\n",
    "champ_names = static_champ_data['data'].keys()\n",
    "\n",
    "# initializing index and empty dictionaries\n",
    "i = 0\n",
    "list_champs = []\n",
    "list_champ_ids = []\n",
    "\n",
    "# filling in the lists\n",
    "for i in range(len(champ_names)):\n",
    "    this_champ = champs[champ_names[i]]\n",
    "    list_champs.append(this_champ['key'])\n",
    "    list_champ_ids.append(this_champ['id'])\n",
    "    \n",
    "# champion ID and name dictionary    \n",
    "champ_dict = dict(zip(list_champ_ids, list_champs))\n",
    "\n",
    "# Wukong's name is not correct (MonkeyKing)\n",
    "champ_dict[62] = 'Wukong'\n",
    "\n",
    "# function that converts a champion ID to champion name\n",
    "def champion_name(champion_id):\n",
    "    if champion_id in champ_dict:\n",
    "        return champ_dict[champion_id]\n",
    "    else:\n",
    "        return 'no_name'\n"
   ]
  },
  {
   "cell_type": "code",
   "execution_count": 3,
   "metadata": {
    "collapsed": true
   },
   "outputs": [],
   "source": [
    "# MATCH-v2.2\n",
    "\n",
    "REGION_ENDPOINT = \"https://{0}.api.pvp.net/api/lol/{0}/\"\n",
    "\n",
    "def get_match(REGION, matchId, includeTimeline):\n",
    "    \"\"\"\n",
    "    Retrieve match by match ID.\n",
    "    \"\"\"\n",
    "    return requests.get(\n",
    "        (REGION_ENDPOINT + \"v2.2/match/{1}?\"\n",
    "         \"api_key={2}&includeTimeline={3}\").\n",
    "        format(REGION, matchId, KEY, includeTimeline))"
   ]
  },
  {
   "cell_type": "code",
   "execution_count": 7,
   "metadata": {
    "collapsed": false
   },
   "outputs": [
    {
     "name": "stdout",
     "output_type": "stream",
     "text": [
      "{u'stats': {u'item1': 3069, u'totalPlayerScore': 0, u'unrealKills': 0, u'objectivePlayerScore': 0, u'largestCriticalStrike': 0, u'totalDamageDealt': 14753, u'magicDamageDealtToChampions': 4025, u'largestMultiKill': 2, u'largestKillingSpree': 2, u'quadraKills': 0, u'magicDamageTaken': 2804, u'towerKills': 1, u'totalTimeCrowdControlDealt': 163, u'neutralMinionsKilledEnemyJungle': 0, u'firstTowerAssist': False, u'neutralMinionsKilledTeamJungle': 0, u'wardsKilled': 6, u'physicalDamageDealt': 3795, u'item2': 3158, u'item3': 3105, u'item0': 2049, u'winner': True, u'item6': 3341, u'wardsPlaced': 16, u'item4': 2043, u'item5': 3067, u'minionsKilled': 20, u'tripleKills': 0, u'champLevel': 10, u'magicDamageDealt': 10958, u'kills': 2, u'doubleKills': 1, u'firstInhibitorKill': False, u'trueDamageTaken': 96, u'firstBloodAssist': False, u'firstBloodKill': False, u'assists': 8, u'deaths': 1, u'neutralMinionsKilled': 0, u'combatPlayerScore': 0, u'visionWardsBoughtInGame': 4, u'physicalDamageDealtToChampions': 1035, u'goldSpent': 6750, u'trueDamageDealt': 0, u'trueDamageDealtToChampions': 0, u'pentaKills': 0, u'firstInhibitorAssist': False, u'firstTowerKill': False, u'totalHeal': 1134, u'goldEarned': 6865, u'sightWardsBoughtInGame': 0, u'totalDamageDealtToChampions': 5060, u'totalUnitsHealed': 1, u'inhibitorKills': 0, u'totalScoreRank': 0, u'totalDamageTaken': 8073, u'killingSprees': 1, u'physicalDamageTaken': 5172}, u'championId': 43, u'participantId': 1, u'runes': [{u'runeId': 5297, u'rank': 9}, {u'runeId': 5315, u'rank': 9}, {u'runeId': 5347, u'rank': 2}, {u'runeId': 5357, u'rank': 1}, {u'runeId': 5402, u'rank': 9}], u'highestAchievedSeasonTier': u'DIAMOND', u'masteries': [{u'masteryId': 6211, u'rank': 5}, {u'masteryId': 6221, u'rank': 1}, {u'masteryId': 6231, u'rank': 5}, {u'masteryId': 6241, u'rank': 1}, {u'masteryId': 6311, u'rank': 5}, {u'masteryId': 6322, u'rank': 1}, {u'masteryId': 6332, u'rank': 5}, {u'masteryId': 6342, u'rank': 1}, {u'masteryId': 6352, u'rank': 5}, {u'masteryId': 6363, u'rank': 1}], u'spell2Id': 4, u'teamId': 100, u'timeline': {u'lane': u'BOTTOM', u'csDiffPerMinDeltas': {u'zeroToTen': -0.25, u'tenToTwenty': 0.6999999999999997}, u'goldPerMinDeltas': {u'zeroToTen': 204.6, u'tenToTwenty': 328.20000000000005}, u'xpDiffPerMinDeltas': {u'zeroToTen': -21.049999999999997, u'tenToTwenty': 78.94999999999996}, u'creepsPerMinDeltas': {u'zeroToTen': 0.7, u'tenToTwenty': 1.3}, u'xpPerMinDeltas': {u'zeroToTen': 266.6, u'tenToTwenty': 331.4}, u'role': u'DUO_SUPPORT', u'damageTakenDiffPerMinDeltas': {u'zeroToTen': -4.700000000000017, u'tenToTwenty': 6.200000000000003}, u'damageTakenPerMinDeltas': {u'zeroToTen': 323.5, u'tenToTwenty': 399.6}}, u'spell1Id': 3}\n"
     ]
    }
   ],
   "source": [
    "test_response = get_match('na', 2026610783, True).json()\n",
    "#test_response = get_match('na', 2027658798, True)\n",
    "#print test_response['highestAchievedSeasonTier']\n",
    "#print test_response['season']\n",
    "#print test_response['participants'][1]['highestAchievedSeasonTier']\n",
    "print test_response['participants'][0]['stats\n",
    "#print test_response.json()\n",
    "#print test_response['queueType']"
   ]
  },
  {
   "cell_type": "code",
   "execution_count": 9,
   "metadata": {
    "collapsed": false
   },
   "outputs": [
    {
     "name": "stdout",
     "output_type": "stream",
     "text": [
      "API rate limit reached - waiting 10 seconds, sleep count: 1\n",
      "API rate limit reached - waiting 10 seconds, sleep count: 2\n",
      "API rate limit reached - waiting 10 seconds, sleep count: 3\n",
      "n: 1, ts: 12-05 12:51:17, gamdID: 2026937814, date: 12-03, season: PRESEASON2016, tier: SILVER, loop_index: 24\n",
      "API rate limit reached - waiting 10 seconds, sleep count: 1\n",
      "n: 2, ts: 12-05 12:51:29, gamdID: 2026937818, date: 12-03, season: PRESEASON2016, tier: SILVER, loop_index: 28\n",
      "n: 3, ts: 12-05 12:51:31, gamdID: 2026937822, date: 12-03, season: PRESEASON2016, tier: UNRANKED, loop_index: 32\n",
      "API rate limit reached - waiting 10 seconds, sleep count: 1\n",
      "API rate limit reached - waiting 10 seconds, sleep count: 2\n",
      "API rate limit reached - waiting 10 seconds, sleep count: 3\n",
      "API rate limit reached - waiting 10 seconds, sleep count: 4\n",
      "API rate limit reached - waiting 10 seconds, sleep count: 5\n",
      "API rate limit reached - waiting 10 seconds, sleep count: 6\n",
      "API rate limit reached - waiting 10 seconds, sleep count: 7\n",
      "n: 4, ts: 12-05 12:53:07, gamdID: 2026937876, date: 12-03, season: PRESEASON2016, tier: SILVER, loop_index: 86\n",
      "API rate limit reached - waiting 10 seconds, sleep count: 1\n",
      "API rate limit reached - waiting 10 seconds, sleep count: 2\n",
      "API rate limit reached - waiting 10 seconds, sleep count: 3\n",
      "API rate limit reached - waiting 10 seconds, sleep count: 4\n",
      "API rate limit reached - waiting 10 seconds, sleep count: 5\n",
      "API rate limit reached - waiting 10 seconds, sleep count: 6\n",
      "n: 5, ts: 12-05 12:54:31, gamdID: 2026937922, date: 12-03, season: PRESEASON2016, tier: BRONZE, loop_index: 132\n",
      "n: 6, ts: 12-05 12:54:31, gamdID: 2026937923, date: 12-03, season: PRESEASON2016, tier: SILVER, loop_index: 133\n",
      "API rate limit reached - waiting 10 seconds, sleep count: 1\n"
     ]
    },
    {
     "ename": "KeyboardInterrupt",
     "evalue": "",
     "output_type": "error",
     "traceback": [
      "\u001b[0;31m---------------------------------------------------------------------------\u001b[0m",
      "\u001b[0;31mKeyboardInterrupt\u001b[0m                         Traceback (most recent call last)",
      "\u001b[0;32m<ipython-input-9-dc43c6c33a30>\u001b[0m in \u001b[0;36m<module>\u001b[0;34m()\u001b[0m\n\u001b[1;32m     63\u001b[0m         \u001b[0msleep_counter\u001b[0m \u001b[0;34m+=\u001b[0m \u001b[0;36m1\u001b[0m\u001b[0;34m\u001b[0m\u001b[0m\n\u001b[1;32m     64\u001b[0m         \u001b[0;32mprint\u001b[0m\u001b[0;34m(\u001b[0m\u001b[0;34m\"API rate limit reached - waiting 10 seconds, sleep count: %d\"\u001b[0m\u001b[0;34m)\u001b[0m \u001b[0;34m%\u001b[0m \u001b[0msleep_counter\u001b[0m\u001b[0;34m\u001b[0m\u001b[0m\n\u001b[0;32m---> 65\u001b[0;31m         \u001b[0mtime\u001b[0m\u001b[0;34m.\u001b[0m\u001b[0msleep\u001b[0m\u001b[0;34m(\u001b[0m\u001b[0;36m10\u001b[0m\u001b[0;34m)\u001b[0m\u001b[0;34m\u001b[0m\u001b[0m\n\u001b[0m\u001b[1;32m     66\u001b[0m         \u001b[0mi\u001b[0m \u001b[0;34m+=\u001b[0m \u001b[0;36m1\u001b[0m\u001b[0;34m\u001b[0m\u001b[0m\n",
      "\u001b[0;31mKeyboardInterrupt\u001b[0m: "
     ]
    }
   ],
   "source": [
    "# Constants\n",
    "REGION = 'na'\n",
    "STATUS_OK = 200\n",
    "STATUS_RATE_LIMIT_EXCEEDED = 429\n",
    "valid_rank_games = ['RANKED_SOLO_5x5',  # Ranked Solo 5v5 games\n",
    "                    'RANKED_PREMADE_3x3',  # Ranked Premade 3v3 games\n",
    "                    'RANKED_PREMADE_5x5',  # Ranked Premade 5v5 games\n",
    "                    'RANKED_TEAM_3x3',  # Ranked Team 3v3 games\n",
    "                    'RANKED_TEAM_5x5']  # Ranked Team 5v5 games\n",
    "\n",
    "# Starting MatchID\n",
    "STARTING_MATCH_ID = 2026937933\n",
    "\n",
    "# Functions that check status of the data pulls\n",
    "def isValid(match):\n",
    "    if match.status_code != STATUS_OK:\n",
    "        return False\n",
    "    return True\n",
    "\n",
    "def isClassicMatch(match):\n",
    "    j = match.json()\n",
    "    if j['mapId'] == 11 and j['matchMode'] == \"CLASSIC\" and j['matchType'] == 'MATCHED_GAME':\n",
    "        return True\n",
    "    else:\n",
    "        return False\n",
    "\n",
    "def isRankMatch(match):\n",
    "    j = match.json()\n",
    "    if j['queueType'] in valid_rank_games:\n",
    "        return True\n",
    "    else:\n",
    "        return False\n",
    "                    \n",
    "def rateLimitExceeded(match):\n",
    "    if int(match.status_code) == STATUS_RATE_LIMIT_EXCEEDED:\n",
    "        return True\n",
    "    return False\n",
    "\n",
    "# index for the for-loop\n",
    "i = 0\n",
    "# counting the number of data retrieved\n",
    "n = 0\n",
    "# counting how many times we sleep in case we hit a dead-end\n",
    "sleep_counter = 0\n",
    "\n",
    "for i in range(100000):\n",
    "    m = get_match(REGION, i + STARTING_MATCH_ID, True)\n",
    "    \n",
    "    if not rateLimitExceeded(m):\n",
    "        if isValid(m) and isClassicMatch(m) and isRankMatch(m):\n",
    "            f = open(\"dump/\" + str(i + STARTING_MATCH_ID)+\".json\", 'w+')\n",
    "            f.write(m.text.encode('utf-8'))\n",
    "            n += 1\n",
    "            print 'n: %d, ts: %s, gamdID: %d, date: %s, season: %s, tier: %s, loop_index: %d' % (n, datetime.datetime.fromtimestamp(time.time()).strftime('%m-%d %H:%M:%S'), \n",
    "                                                                                                 i + STARTING_MATCH_ID, \n",
    "                                                                                                 ('%s' % (time.strftime('%m-%d', time.localtime(m.json()['matchCreation']/1000)))),\n",
    "                                                                                                 m.json()['season'], m.json()['participants'][1]['highestAchievedSeasonTier'], i)\n",
    "            f.close()\n",
    "            i += 1\n",
    "            # reset sleep_counter if we are get data again\n",
    "            sleep_counter = 0\n",
    "    else:\n",
    "        sleep_counter += 1\n",
    "        print(\"API rate limit reached - waiting 10 seconds, sleep count: %d, loop_index: %d\") % (sleep_counter, i)\n",
    "        time.sleep(10)\n",
    "        i += 1"
   ]
  }
 ],
 "metadata": {
  "kernelspec": {
   "display_name": "Python 2",
   "language": "python",
   "name": "python2"
  },
  "language_info": {
   "codemirror_mode": {
    "name": "ipython",
    "version": 2
   },
   "file_extension": ".py",
   "mimetype": "text/x-python",
   "name": "python",
   "nbconvert_exporter": "python",
   "pygments_lexer": "ipython2",
   "version": "2.7.10"
  }
 },
 "nbformat": 4,
 "nbformat_minor": 0
}
