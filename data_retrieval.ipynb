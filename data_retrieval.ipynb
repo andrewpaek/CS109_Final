{
 "cells": [
  {
   "cell_type": "code",
   "execution_count": 1,
   "metadata": {
    "collapsed": false
   },
   "outputs": [],
   "source": [
    "########## SET-UP ##########\n",
    "\n",
    "# necessary libraries\n",
    "import os\n",
    "import json\n",
    "import requests\n",
    "import time\n",
    "import datetime\n",
    "\n",
    "# INSERT YOUR API KEY HERE! DO NOT USE MINE! (Sean)\n",
    "KEY = 'b00c992b-6fc1-4795-abcc-7db85c1b72fa'\n"
   ]
  },
  {
   "cell_type": "code",
   "execution_count": 2,
   "metadata": {
    "collapsed": true
   },
   "outputs": [],
   "source": [
    "# MATCH-v2.2\n",
    "REGION_ENDPOINT = \"https://{0}.api.pvp.net/api/lol/{0}/\"\n",
    "\n",
    "# FUNCTION TO PULL MATCH DATA\n",
    "def get_match(REGION, matchId, includeTimeline):\n",
    "    \"\"\"\n",
    "    Retrieve match by match ID.\n",
    "    \"\"\"\n",
    "    return requests.get(\n",
    "        (REGION_ENDPOINT + \"v2.2/match/{1}?\"\n",
    "         \"api_key={2}&includeTimeline={3}\").\n",
    "        format(REGION, matchId, KEY, includeTimeline))"
   ]
  },
  {
   "cell_type": "code",
   "execution_count": 3,
   "metadata": {
    "collapsed": false
   },
   "outputs": [],
   "source": [
    "# Constants\n",
    "STATUS_OK = 200\n",
    "STATUS_RATE_LIMIT_EXCEEDED = 429\n",
    "valid_rank_games = ['RANKED_SOLO_5x5',  # Ranked Solo 5v5 games\n",
    "                    'RANKED_PREMADE_5x5',  # Ranked Premade 5v5 games\n",
    "                    'RANKED_TEAM_5x5']  # Ranked Team 5v5 games\n",
    "\n",
    "REGION_list = ['na', 'kr', 'eune', 'euw', 'lan', 'las', 'oce', 'ru', 'br', 'tr']\n",
    "\n",
    "# Sean\n",
    "regional_match_id = {'br': 667083564,\n",
    " 'eune': 1297488970,\n",
    " 'euw': 2416879719,\n",
    " 'kr': 2192869031,\n",
    " 'lan': 229970655,\n",
    " 'las': 273082792,\n",
    " 'na': 2030012146,\n",
    " 'oce': 113882549,\n",
    " 'ru': 84063499,\n",
    " 'tr': 325256921}\n",
    "\n",
    "\n",
    "# COMMENT OUT regional_match_id THAT IS NOT UNDER YOUR NAME!!!!!!!!!!!!!!!!!!\n",
    "# DO NOT RUN THIS PART OF THE CODE AFTER YOU'VE STARTED THE LOOP BELOW. IT'LL OVERWRITE EXISTING DATA!!!\n",
    "\n",
    "# jaemin\n",
    "#regional_match_id = {'na': 2029960687,\n",
    "#                     'kr': 2192916925,\n",
    "#                     'br': 664106032,\n",
    "#                     'eune': 1293871277,\n",
    "#                     'euw': 2417718483,\n",
    "#                     'lan': 229932736,\n",
    "#                     'las': 271679926,\n",
    "#                     'oce': 113897495,\n",
    "#                     'ru': 83927963,\n",
    "#                     'tr': 332060998}\n",
    "                     \n",
    "# kenny\n",
    "#regional_match_id = {'na': 2029894256\n",
    "#                     'kr': 2181887785\n",
    "#                     'br': 664332857\n",
    "#                     'eune': 1293801833\n",
    "#                     'euw': 2417655730\n",
    "#                     'lan': 229928986\n",
    "#                     'las': 272582143\n",
    "#                     'oce': 113887342\n",
    "#                     'ru': 83706280\n",
    "#                     'tr': 332046148}\n",
    "\n",
    "# andrew\n",
    "#regional_match_id = {'na': 2029848145\n",
    "#                     'kr': 2181825342\n",
    "#                     'br': 664520626\n",
    "#                     'eune': 1293842842\n",
    "#                     'euw': 2416827654\n",
    "#                     'lan': 229859020\n",
    "#                     'las': 272319645\n",
    "#                     'oce': 113877802\n",
    "#                     'ru': 84139484\n",
    "#                     'tr': 331322838}\n",
    "\n",
    "# andrew_new\n",
    "# regional_match_id = {'na': 2026960869,\n",
    "#                     'kr': 2191725864,\n",
    "#                     'br': 657525985,\n",
    "#                     'eune': 1296975996,\n",
    "#                     'euw': 2402323438,\n",
    "#                     'lan': 230046764,\n",
    "#                     'las': 272799452,\n",
    "#                     'oce': 114327933,\n",
    "#                     'ru': 83843684,\n",
    "#                     'tr': 332012773}\n",
    "\n"
   ]
  },
  {
   "cell_type": "code",
   "execution_count": null,
   "metadata": {
    "collapsed": true
   },
   "outputs": [],
   "source": []
  },
  {
   "cell_type": "code",
   "execution_count": 4,
   "metadata": {
    "collapsed": true
   },
   "outputs": [],
   "source": [
    "# Functions that check status of the data pulls\n",
    "def isValid(match):\n",
    "    if match.status_code != STATUS_OK:\n",
    "        return False\n",
    "    return True\n",
    "\n",
    "def isClassicMatch(match):\n",
    "    j = match.json()\n",
    "    if j['mapId'] == 11 and j['matchMode'] == \"CLASSIC\" and j['matchType'] == 'MATCHED_GAME':\n",
    "        return True\n",
    "    else:\n",
    "        return False\n",
    "\n",
    "def isRankMatch(match):\n",
    "    j = match.json()\n",
    "    if j['queueType'] in valid_rank_games:\n",
    "        return True\n",
    "    else:\n",
    "        return False\n",
    "                    \n",
    "def rateLimitExceeded(match):\n",
    "    if int(match.status_code) == STATUS_RATE_LIMIT_EXCEEDED:\n",
    "        return True\n",
    "    return False"
   ]
  },
  {
   "cell_type": "code",
   "execution_count": null,
   "metadata": {
    "collapsed": false
   },
   "outputs": [
    {
     "name": "stdout",
     "output_type": "stream",
     "text": [
      "rate limit reached at na, moving onto kr\n",
      "rate limit reached at kr, moving onto eune\n",
      "rate limit reached at eune, moving onto euw\n",
      "rate limit reached at euw, moving onto lan\n",
      "n: 1, ts: 10:15:02, ID: 229970655, date: 12-05, season: PRESEASON2016, tier: GOLD, loop_index: 24, region: LAN\n",
      "n: 2, ts: 10:15:03, ID: 229970656, date: 12-05, season: PRESEASON2016, tier: SILVER, loop_index: 25, region: LAN\n",
      "rate limit reached at lan, moving onto las\n",
      "n: 3, ts: 10:15:08, ID: 273082795, date: 12-06, season: PRESEASON2016, tier: SILVER, loop_index: 38, region: LAS\n",
      "n: 4, ts: 10:15:10, ID: 273082800, date: 12-06, season: PRESEASON2016, tier: UNRANKED, loop_index: 43, region: LAS\n",
      "rate limit reached at las, moving onto oce\n",
      "rate limit reached at oce, moving onto ru\n",
      "rate limit reached at ru, moving onto br\n",
      "rate limit reached at br, moving onto tr\n",
      "rate limit reached at tr, moving onto na\n",
      "n: 5, ts: 10:15:25, ID: 2030012167, date: 12-06, season: PRESEASON2016, tier: PLATINUM, loop_index: 74, region: NA\n",
      "n: 6, ts: 10:15:25, ID: 2030012168, date: 12-06, season: PRESEASON2016, tier: GOLD, loop_index: 75, region: NA\n",
      "rate limit reached at na, moving onto kr\n",
      "n: 7, ts: 10:15:28, ID: 2192869035, date: 12-06, season: PRESEASON2016, tier: UNRANKED, loop_index: 78, region: KR\n",
      "rate limit reached at kr, moving onto eune\n",
      "rate limit reached at eune, moving onto euw\n",
      "rate limit reached at euw, moving onto lan\n",
      "rate limit reached at lan, moving onto las\n",
      "rate limit reached at las, moving onto oce\n",
      "n: 8, ts: 10:15:40, ID: 113882571, date: 12-02, season: PRESEASON2016, tier: UNRANKED, loop_index: 105, region: OCE\n",
      "n: 9, ts: 10:15:41, ID: 113882573, date: 12-02, season: PRESEASON2016, tier: BRONZE, loop_index: 107, region: OCE\n",
      "n: 10, ts: 10:15:41, ID: 113882574, date: 12-02, season: PRESEASON2016, tier: BRONZE, loop_index: 108, region: OCE\n",
      "n: 11, ts: 10:15:42, ID: 113882575, date: 12-02, season: PRESEASON2016, tier: UNRANKED, loop_index: 109, region: OCE\n",
      "rate limit reached at oce, moving onto ru\n",
      "n: 12, ts: 10:15:45, ID: 84063508, date: 12-01, season: PRESEASON2016, tier: SILVER, loop_index: 115, region: RU\n",
      "n: 13, ts: 10:15:45, ID: 84063509, date: 12-01, season: PRESEASON2016, tier: SILVER, loop_index: 116, region: RU\n",
      "n: 14, ts: 10:15:46, ID: 84063510, date: 12-01, season: PRESEASON2016, tier: BRONZE, loop_index: 117, region: RU\n",
      "n: 15, ts: 10:15:46, ID: 84063511, date: 12-01, season: PRESEASON2016, tier: SILVER, loop_index: 118, region: RU\n",
      "n: 16, ts: 10:15:49, ID: 84063515, date: 12-01, season: PRESEASON2016, tier: UNRANKED, loop_index: 122, region: RU\n",
      "rate limit reached at ru, moving onto br\n",
      "rate limit reached at br, moving onto tr\n",
      "rate limit reached at tr, moving onto na\n",
      "rate limit reached at na, moving onto kr\n",
      "rate limit reached at kr, moving onto eune\n",
      "rate limit reached at eune, moving onto euw\n",
      "rate limit reached at euw, moving onto lan\n",
      "rate limit reached at lan, moving onto las\n",
      "n: 17, ts: 10:16:03, ID: 273082837, date: 12-06, season: PRESEASON2016, tier: BRONZE, loop_index: 153, region: LAS\n",
      "n: 18, ts: 10:16:04, ID: 273082839, date: 12-06, season: PRESEASON2016, tier: BRONZE, loop_index: 155, region: LAS\n",
      "n: 19, ts: 10:16:05, ID: 273082841, date: 12-06, season: PRESEASON2016, tier: SILVER, loop_index: 157, region: LAS\n",
      "rate limit reached at las, moving onto oce\n",
      "rate limit reached at oce, moving onto ru\n",
      "n: 20, ts: 10:16:12, ID: 84063529, date: 12-01, season: PRESEASON2016, tier: GOLD, loop_index: 172, region: RU\n",
      "n: 21, ts: 10:16:16, ID: 84063536, date: 12-01, season: PRESEASON2016, tier: SILVER, loop_index: 179, region: RU\n",
      "n: 22, ts: 10:16:17, ID: 84063537, date: 12-01, season: PRESEASON2016, tier: SILVER, loop_index: 180, region: RU\n",
      "n: 23, ts: 10:16:17, ID: 84063538, date: 12-01, season: PRESEASON2016, tier: BRONZE, loop_index: 181, region: RU\n",
      "rate limit reached at ru, moving onto br\n",
      "rate limit reached at br, moving onto tr"
     ]
    }
   ],
   "source": [
    "# initializing indices\n",
    "i, n, r = (0, 0, 0) # i = incrementing starting match ID, n = number of games retrieved, r = region list index)\n",
    "\n",
    "\n",
    "# feel free to stop/run this loop anytime (it remembers the last starting point.. but it doesn't hurt to double check)\n",
    "for k in range(100000):\n",
    "    # current region\n",
    "    curr_region = REGION_list[r]\n",
    "    current_match_id = regional_match_id[curr_region] + i\n",
    "    i += 1\n",
    "    \n",
    "    m = get_match(curr_region, current_match_id, False)\n",
    "    \n",
    "    if not rateLimitExceeded(m):\n",
    "        if isValid(m) and isClassicMatch(m) and isRankMatch(m):\n",
    "\n",
    "            f = open(\"dump_global/\" + str(curr_region) + str(current_match_id) + \".json\", 'w+')\n",
    "            # if your name is Jaemin, use this part\n",
    "            #f = open(\"dump_jaemin_global/\" + str(current_match_id)+\".json\", 'w+')\n",
    "            # if your name is Kenny, use this part\n",
    "            #f = open(\"dump_kenny_global/\" + str(current_match_id)+\".json\", 'w+')\n",
    "            # if your name is Andrew, use this part\n",
    "            #f = open(\"dump_andrew_global/\" + str(current_match_id)+\".json\", 'w+')\n",
    "            f.write(m.text.encode('utf-8'))\n",
    "            n += 1\n",
    "            print 'n: %d, ts: %s, ID: %d, date: %s, season: %s, tier: %s, loop_index: %d, region: %s' % (n, datetime.datetime.fromtimestamp(time.time()).strftime('%H:%M:%S'), \n",
    "                                                                                                 current_match_id, \n",
    "                                                                                                 ('%s' % (time.strftime('%m-%d', time.localtime(m.json()['matchCreation']/1000)))),\n",
    "                                                                                                 m.json()['season'], m.json()['participants'][1]['highestAchievedSeasonTier'], k,\n",
    "                                                                                                            m.json()['region'])\n",
    "            f.close()\n",
    "    else:\n",
    "        regional_match_id[curr_region] =  current_match_id + i\n",
    "        if (r == 9):\n",
    "            print (\"rate limit reached at %s, moving onto %s\") % (REGION_list[r], REGION_list[0])\n",
    "            r = 0\n",
    "        else:\n",
    "            print (\"rate limit reached at %s, moving onto %s\") % (REGION_list[r], REGION_list[r+1])\n",
    "            r += 1\n",
    "        i = 0\n",
    "        # My computer was slow at writing JSON files, so it took 10 seconds to come back to the same region\n",
    "        # If you're computer is super fast, uncomment the time.sleep below (you probably shouldn't)\n",
    "        #time.sleep(1)"
   ]
  },
  {
   "cell_type": "code",
   "execution_count": 54,
   "metadata": {
    "collapsed": false
   },
   "outputs": [
    {
     "data": {
      "text/plain": [
       "{'br': 667083564,\n",
       " 'eune': 1297488970,\n",
       " 'euw': 2416879719,\n",
       " 'kr': 2192869031,\n",
       " 'lan': 229970655,\n",
       " 'las': 273082792,\n",
       " 'na': 2030012146,\n",
       " 'oce': 113882549,\n",
       " 'ru': 84063499,\n",
       " 'tr': 325256921}"
      ]
     },
     "execution_count": 54,
     "metadata": {},
     "output_type": "execute_result"
    }
   ],
   "source": [
    "regional_match_id"
   ]
  }
 ],
 "metadata": {
  "kernelspec": {
   "display_name": "Python 2",
   "language": "python",
   "name": "python2"
  },
  "language_info": {
   "codemirror_mode": {
    "name": "ipython",
    "version": 2
   },
   "file_extension": ".py",
   "mimetype": "text/x-python",
   "name": "python",
   "nbconvert_exporter": "python",
   "pygments_lexer": "ipython2",
   "version": "2.7.10"
  }
 },
 "nbformat": 4,
 "nbformat_minor": 0
}
