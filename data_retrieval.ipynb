{
 "cells": [
  {
   "cell_type": "code",
   "execution_count": 1,
   "metadata": {
    "collapsed": false
   },
   "outputs": [],
   "source": [
    "########## SET-UP ##########\n",
    "\n",
    "# necessary libraries\n",
    "import os\n",
    "import json\n",
    "import requests\n",
    "import time\n",
    "import datetime\n",
    "\n",
    "# INSERT YOUR API KEY HERE! DO NOT USE MINE! (Sean)\n",
    "KEY = 'b00c992b-6fc1-4795-abcc-7db85c1b72fa'\n"
   ]
  },
  {
   "cell_type": "code",
   "execution_count": 2,
   "metadata": {
    "collapsed": true
   },
   "outputs": [],
   "source": [
    "# MATCH-v2.2\n",
    "REGION_ENDPOINT = \"https://{0}.api.pvp.net/api/lol/{0}/\"\n",
    "\n",
    "# FUNCTION TO PULL MATCH DATA\n",
    "def get_match(REGION, matchId, includeTimeline):\n",
    "    \"\"\"\n",
    "    Retrieve match by match ID.\n",
    "    \"\"\"\n",
    "    return requests.get(\n",
    "        (REGION_ENDPOINT + \"v2.2/match/{1}?\"\n",
    "         \"api_key={2}&includeTimeline={3}\").\n",
    "        format(REGION, matchId, KEY, includeTimeline))"
   ]
  },
  {
   "cell_type": "code",
   "execution_count": 3,
   "metadata": {
    "collapsed": false
   },
   "outputs": [],
   "source": [
    "# Constants\n",
    "STATUS_OK = 200\n",
    "STATUS_RATE_LIMIT_EXCEEDED = 429\n",
    "valid_rank_games = ['RANKED_SOLO_5x5',  # Ranked Solo 5v5 games\n",
    "                    'RANKED_PREMADE_5x5',  # Ranked Premade 5v5 games\n",
    "                    'RANKED_TEAM_5x5']  # Ranked Team 5v5 games\n",
    "\n",
    "REGION_list = ['na', 'kr', 'eune', 'euw', 'lan', 'las', 'oce', 'ru', 'br', 'tr']\n",
    "\n",
    "# Sean\n",
    "regional_match_id = {'br': 667093564,\n",
    " 'eune': 1297498970,\n",
    " 'euw': 2416889719,\n",
    " 'kr': 2192879031,\n",
    " 'lan': 229980655,\n",
    " 'las': 273092792,\n",
    " 'na': 2030022146,\n",
    " 'oce': 113892549,\n",
    " 'ru': 84073499,\n",
    " 'tr': 325266921}\n",
    "\n",
    "\n",
    "# COMMENT OUT regional_match_id THAT IS NOT UNDER YOUR NAME!!!!!!!!!!!!!!!!!!\n",
    "# DO NOT RUN THIS PART OF THE CODE AFTER YOU'VE STARTED THE LOOP BELOW. IT'LL OVERWRITE EXISTING DATA!!!\n",
    "\n",
    "# jaemin\n",
    "#regional_match_id = {'na': 2029960687,\n",
    "#                     'kr': 2192916925,\n",
    "#                     'br': 664106032,\n",
    "#                     'eune': 1293871277,\n",
    "#                     'euw': 2417718483,\n",
    "#                     'lan': 229932736,\n",
    "#                     'las': 271679926,\n",
    "#                     'oce': 113897495,\n",
    "#                     'ru': 83927963,\n",
    "#                     'tr': 332060998}\n",
    "                     \n",
    "# kenny\n",
    "#regional_match_id = {'na': 2029894256\n",
    "#                     'kr': 2181887785\n",
    "#                     'br': 664332857\n",
    "#                     'eune': 1293801833\n",
    "#                     'euw': 2417655730\n",
    "#                     'lan': 229928986\n",
    "#                     'las': 272582143\n",
    "#                     'oce': 113887342\n",
    "#                     'ru': 83706280\n",
    "#                     'tr': 332046148}\n",
    "\n",
    "# andrew\n",
    "#regional_match_id = {'na': 2029848145\n",
    "#                     'kr': 2181825342\n",
    "#                     'br': 664520626\n",
    "#                     'eune': 1293842842\n",
    "#                     'euw': 2416827654\n",
    "#                     'lan': 229859020\n",
    "#                     'las': 272319645\n",
    "#                     'oce': 113877802\n",
    "#                     'ru': 84139484\n",
    "#                     'tr': 331322838}\n",
    "\n",
    "# andrew_new\n",
    "# regional_match_id = {'na': 2026960869,\n",
    "#                     'kr': 2191725864,\n",
    "#                     'br': 657525985,\n",
    "#                     'eune': 1296975996,\n",
    "#                     'euw': 2402323438,\n",
    "#                     'lan': 230046764,\n",
    "#                     'las': 272799452,\n",
    "#                     'oce': 114327933,\n",
    "#                     'ru': 83843684,\n",
    "#                     'tr': 332012773}\n",
    "\n"
   ]
  },
  {
   "cell_type": "code",
   "execution_count": null,
   "metadata": {
    "collapsed": true
   },
   "outputs": [],
   "source": []
  },
  {
   "cell_type": "code",
   "execution_count": 4,
   "metadata": {
    "collapsed": true
   },
   "outputs": [],
   "source": [
    "# Functions that check status of the data pulls\n",
    "def isValid(match):\n",
    "    if match.status_code != STATUS_OK:\n",
    "        return False\n",
    "    return True\n",
    "\n",
    "def isClassicMatch(match):\n",
    "    j = match.json()\n",
    "    if j['mapId'] == 11 and j['matchMode'] == \"CLASSIC\" and j['matchType'] == 'MATCHED_GAME':\n",
    "        return True\n",
    "    else:\n",
    "        return False\n",
    "\n",
    "def isRankMatch(match):\n",
    "    j = match.json()\n",
    "    if j['queueType'] in valid_rank_games:\n",
    "        return True\n",
    "    else:\n",
    "        return False\n",
    "                    \n",
    "def rateLimitExceeded(match):\n",
    "    if int(match.status_code) == STATUS_RATE_LIMIT_EXCEEDED:\n",
    "        return True\n",
    "    return False"
   ]
  },
  {
   "cell_type": "code",
   "execution_count": null,
   "metadata": {
    "collapsed": false
   },
   "outputs": [
    {
     "name": "stdout",
     "output_type": "stream",
     "text": [
      "rate limit reached at na, moving onto kr\n",
      "n: 1, ts: 14:03:28, ID: 2192879034, date: 12-06, season: PRESEASON2016, tier: GOLD, loop_index: 14, region: KR\n",
      "n: 2, ts: 14:03:28, ID: 2192879035, date: 12-06, season: PRESEASON2016, tier: PLATINUM, loop_index: 15, region: KR\n",
      "rate limit reached at kr, moving onto eune\n",
      "n: 3, ts: 14:03:30, ID: 1297498970, date: 12-06, season: PRESEASON2016, tier: SILVER, loop_index: 17, region: EUNE\n",
      "n: 4, ts: 14:03:31, ID: 1297498973, date: 12-06, season: PRESEASON2016, tier: UNRANKED, loop_index: 20, region: EUNE\n",
      "n: 5, ts: 14:03:32, ID: 1297498975, date: 12-06, season: PRESEASON2016, tier: GOLD, loop_index: 22, region: EUNE\n",
      "rate limit reached at eune, moving onto euw\n",
      "n: 6, ts: 14:03:39, ID: 2416889725, date: 12-05, season: PRESEASON2016, tier: GOLD, loop_index: 34, region: EUW\n",
      "n: 7, ts: 14:03:40, ID: 2416889727, date: 12-05, season: PRESEASON2016, tier: PLATINUM, loop_index: 36, region: EUW\n",
      "n: 8, ts: 14:03:41, ID: 2416889728, date: 12-05, season: PRESEASON2016, tier: UNRANKED, loop_index: 37, region: EUW\n",
      "rate limit reached at euw, moving onto lan\n",
      "n: 9, ts: 14:03:44, ID: 229980662, date: 12-05, season: PRESEASON2016, tier: BRONZE, loop_index: 46, region: LAN\n",
      "rate limit reached at lan, moving onto las\n",
      "n: 10, ts: 14:03:48, ID: 273092798, date: 12-06, season: PRESEASON2016, tier: SILVER, loop_index: 56, region: LAS\n",
      "n: 11, ts: 14:03:50, ID: 273092801, date: 12-06, season: PRESEASON2016, tier: BRONZE, loop_index: 59, region: LAS\n",
      "rate limit reached at las, moving onto oce\n",
      "n: 12, ts: 14:03:51, ID: 113892550, date: 12-02, season: PRESEASON2016, tier: SILVER, loop_index: 62, region: OCE\n",
      "n: 13, ts: 14:03:51, ID: 113892551, date: 12-02, season: PRESEASON2016, tier: BRONZE, loop_index: 63, region: OCE\n",
      "n: 14, ts: 14:03:53, ID: 113892556, date: 12-02, season: PRESEASON2016, tier: BRONZE, loop_index: 68, region: OCE\n",
      "rate limit reached at oce, moving onto ru\n",
      "rate limit reached at ru, moving onto br\n",
      "rate limit reached at br, moving onto tr\n",
      "n: 15, ts: 14:04:03, ID: 325266922, date: 11-15, season: PRESEASON2016, tier: BRONZE, loop_index: 87, region: TR\n",
      "n: 16, ts: 14:04:04, ID: 325266923, date: 11-15, season: PRESEASON2016, tier: SILVER, loop_index: 88, region: TR\n",
      "rate limit reached at tr, moving onto na\n",
      "rate limit reached at na, moving onto kr\n",
      "n: 17, ts: 14:04:07, ID: 2192879042, date: 12-06, season: PRESEASON2016, tier: BRONZE, loop_index: 92, region: KR\n",
      "n: 18, ts: 14:04:08, ID: 2192879044, date: 12-06, season: PRESEASON2016, tier: SILVER, loop_index: 94, region: KR\n",
      "n: 19, ts: 14:04:10, ID: 2192879046, date: 12-06, season: PRESEASON2016, tier: SILVER, loop_index: 96, region: KR\n",
      "n: 20, ts: 14:04:13, ID: 2192879049, date: 12-06, season: PRESEASON2016, tier: BRONZE, loop_index: 99, region: KR\n",
      "n: 21, ts: 14:04:15, ID: 2192879051, date: 12-06, season: PRESEASON2016, tier: SILVER, loop_index: 101, region: KR\n",
      "rate limit reached at kr, moving onto eune\n",
      "n: 22, ts: 14:04:16, ID: 1297498991, date: 12-06, season: PRESEASON2016, tier: SILVER, loop_index: 103, region: EUNE\n",
      "rate limit reached at eune, moving onto euw\n",
      "rate limit reached at euw, moving onto lan\n",
      "rate limit reached at lan, moving onto las\n",
      "n: 23, ts: 14:04:28, ID: 273092815, date: 12-06, season: PRESEASON2016, tier: BRONZE, loop_index: 129, region: LAS\n",
      "n: 24, ts: 14:04:31, ID: 273092822, date: 12-06, season: PRESEASON2016, tier: SILVER, loop_index: 136, region: LAS\n",
      "rate limit reached at las, moving onto oce\n",
      "n: 25, ts: 14:04:33, ID: 113892573, date: 12-02, season: PRESEASON2016, tier: SILVER, loop_index: 141, region: OCE\n",
      "n: 26, ts: 14:04:35, ID: 113892578, date: 12-02, season: PRESEASON2016, tier: UNRANKED, loop_index: 146, region: OCE\n",
      "rate limit reached at oce, moving onto ru\n",
      "rate limit reached at ru, moving onto br"
     ]
    }
   ],
   "source": [
    "# initializing indices\n",
    "i, n, r = (0, 0, 0) # i = incrementing starting match ID, n = number of games retrieved, r = region list index)\n",
    "\n",
    "\n",
    "# feel free to stop/run this loop anytime (it remembers the last starting point.. but it doesn't hurt to double check)\n",
    "for k in range(100000):\n",
    "    # current region\n",
    "    curr_region = REGION_list[r]\n",
    "    current_match_id = regional_match_id[curr_region] + i\n",
    "    i += 1\n",
    "    \n",
    "    m = get_match(curr_region, current_match_id, False)\n",
    "    \n",
    "    if not rateLimitExceeded(m):\n",
    "        if isValid(m) and isClassicMatch(m) and isRankMatch(m):\n",
    "\n",
    "            f = open(\"dump_global/\" + str(curr_region) + str(current_match_id) + \".json\", 'w+')\n",
    "            # if your name is Jaemin, use this part\n",
    "            #f = open(\"dump_jaemin_global/\" + str(current_match_id)+\".json\", 'w+')\n",
    "            # if your name is Kenny, use this part\n",
    "            #f = open(\"dump_kenny_global/\" + str(current_match_id)+\".json\", 'w+')\n",
    "            # if your name is Andrew, use this part\n",
    "            #f = open(\"dump_andrew_global/\" + str(current_match_id)+\".json\", 'w+')\n",
    "            f.write(m.text.encode('utf-8'))\n",
    "            n += 1\n",
    "            print 'n: %d, ts: %s, ID: %d, date: %s, season: %s, tier: %s, loop_index: %d, region: %s' % (n, datetime.datetime.fromtimestamp(time.time()).strftime('%H:%M:%S'), \n",
    "                                                                                                 current_match_id, \n",
    "                                                                                                 ('%s' % (time.strftime('%m-%d', time.localtime(m.json()['matchCreation']/1000)))),\n",
    "                                                                                                 m.json()['season'], m.json()['participants'][1]['highestAchievedSeasonTier'], k,\n",
    "                                                                                                            m.json()['region'])\n",
    "            f.close()\n",
    "    else:\n",
    "        regional_match_id[curr_region] =  current_match_id + i\n",
    "        if (r == 9):\n",
    "            print (\"rate limit reached at %s, moving onto %s\") % (REGION_list[r], REGION_list[0])\n",
    "            r = 0\n",
    "        else:\n",
    "            print (\"rate limit reached at %s, moving onto %s\") % (REGION_list[r], REGION_list[r+1])\n",
    "            r += 1\n",
    "        i = 0\n",
    "        # My computer was slow at writing JSON files, so it took 10 seconds to come back to the same region\n",
    "        # If you're computer is super fast, uncomment the time.sleep below (you probably shouldn't)\n",
    "        #time.sleep(1)"
   ]
  },
  {
   "cell_type": "code",
   "execution_count": 6,
   "metadata": {
    "collapsed": false
   },
   "outputs": [
    {
     "data": {
      "text/plain": [
       "{'br': 667087104,\n",
       " 'eune': 1297492334,\n",
       " 'euw': 2416883121,\n",
       " 'kr': 2192872403,\n",
       " 'lan': 229974083,\n",
       " 'las': 273086202,\n",
       " 'na': 2030015594,\n",
       " 'oce': 113886085,\n",
       " 'ru': 84066985,\n",
       " 'tr': 325260415}"
      ]
     },
     "execution_count": 6,
     "metadata": {},
     "output_type": "execute_result"
    }
   ],
   "source": [
    "regional_match_id"
   ]
  }
 ],
 "metadata": {
  "kernelspec": {
   "display_name": "Python 2",
   "language": "python",
   "name": "python2"
  },
  "language_info": {
   "codemirror_mode": {
    "name": "ipython",
    "version": 2
   },
   "file_extension": ".py",
   "mimetype": "text/x-python",
   "name": "python",
   "nbconvert_exporter": "python",
   "pygments_lexer": "ipython2",
   "version": "2.7.10"
  }
 },
 "nbformat": 4,
 "nbformat_minor": 0
}
