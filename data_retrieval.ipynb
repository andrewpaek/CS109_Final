{
 "cells": [
  {
   "cell_type": "code",
   "execution_count": 1,
   "metadata": {
    "collapsed": false
   },
   "outputs": [],
   "source": [
    "########## SET-UP ##########\n",
    "\n",
    "# necessary libraries\n",
    "import os\n",
    "import json\n",
    "import requests\n",
    "import time\n",
    "import datetime\n",
    "\n",
    "# INSERT YOUR API KEY HERE\n",
    "KEY = 'b00c992b-6fc1-4795-abcc-7db85c1b72fa'\n"
   ]
  },
  {
   "cell_type": "code",
   "execution_count": 2,
   "metadata": {
    "collapsed": true
   },
   "outputs": [],
   "source": [
    "# MATCH-v2.2\n",
    "REGION_ENDPOINT = \"https://{0}.api.pvp.net/api/lol/{0}/\"\n",
    "\n",
    "# FUNCTION TO PULL MATCH DATA\n",
    "def get_match(REGION, matchId, includeTimeline):\n",
    "    \"\"\"\n",
    "    Retrieve match by match ID.\n",
    "    \"\"\"\n",
    "    return requests.get(\n",
    "        (REGION_ENDPOINT + \"v2.2/match/{1}?\"\n",
    "         \"api_key={2}&includeTimeline={3}\").\n",
    "        format(REGION, matchId, KEY, includeTimeline))"
   ]
  },
  {
   "cell_type": "code",
   "execution_count": 4,
   "metadata": {
    "collapsed": true
   },
   "outputs": [],
   "source": [
    "################## UNCOMMENT AND DELETE IRRELEVANT PARTS HERE ###############\n",
    "################## DO NOT RUN THIS AGAIN #################\n",
    "\n",
    "# List of starting MatchID's\n",
    "# sean\n",
    "match_id_list = [2029040788, 2028998508, 2028697992, 2028410883, 2028610390]\n",
    "# jaemin\n",
    "#match_id_list = [2028886202, 2028875395, 2028669368, 2028646565, 2028611382, 2026627159]\n",
    "# lenny kei\n",
    "#match_id_list = [2028144696, 2028076924, 2028017860, 2028129100, 2028115585, 2026610783]\n",
    "# a paek\n",
    "#match_id_list = [2028089458, 2027868106, 2027853644, 2027828374, 2026660053, 2026561470]"
   ]
  },
  {
   "cell_type": "code",
   "execution_count": null,
   "metadata": {
    "collapsed": false
   },
   "outputs": [
    {
     "name": "stdout",
     "output_type": "stream",
     "text": [
      "n: 1, ts: 12-06 00:47:40, gamdID: 2029040789, date: 12-05, season: PRESEASON2016, tier: SILVER, loop_index: 1\n",
      "n: 2, ts: 12-06 00:47:41, gamdID: 2029040791, date: 12-05, season: PRESEASON2016, tier: BRONZE, loop_index: 3\n",
      "n: 3, ts: 12-06 00:47:42, gamdID: 2029040794, date: 12-05, season: PRESEASON2016, tier: UNRANKED, loop_index: 6\n",
      "n: 4, ts: 12-06 00:47:43, gamdID: 2029040795, date: 12-05, season: PRESEASON2016, tier: GOLD, loop_index: 7\n",
      "API rate limit reached - waiting 10 seconds, sleep count: 1, loop_index: 11\n",
      "API rate limit reached - waiting 10 seconds, sleep count: 2, loop_index: 22\n",
      "API rate limit reached - waiting 10 seconds, sleep count: 3, loop_index: 33\n",
      "n: 5, ts: 12-06 00:48:32, gamdID: 2029040830, date: 12-05, season: PRESEASON2016, tier: SILVER, loop_index: 42\n",
      "API rate limit reached - waiting 10 seconds, sleep count: 1, loop_index: 44\n",
      "n: 6, ts: 12-06 00:48:48, gamdID: 2029040842, date: 12-05, season: PRESEASON2016, tier: SILVER, loop_index: 54\n",
      "API rate limit reached - waiting 10 seconds, sleep count: 1, loop_index: 55\n",
      "n: 7, ts: 12-06 00:48:59, gamdID: 2029040844, date: 12-05, season: PRESEASON2016, tier: SILVER, loop_index: 56\n",
      "n: 8, ts: 12-06 00:48:59, gamdID: 2029040845, date: 12-05, season: PRESEASON2016, tier: PLATINUM, loop_index: 57\n",
      "n: 9, ts: 12-06 00:49:02, gamdID: 2029040850, date: 12-05, season: PRESEASON2016, tier: BRONZE, loop_index: 62\n",
      "n: 10, ts: 12-06 00:49:03, gamdID: 2029040852, date: 12-05, season: PRESEASON2016, tier: SILVER, loop_index: 64\n",
      "API rate limit reached - waiting 10 seconds, sleep count: 1, loop_index: 66\n",
      "n: 11, ts: 12-06 00:49:15, gamdID: 2029040855, date: 12-05, season: PRESEASON2016, tier: SILVER, loop_index: 67\n",
      "API rate limit reached - waiting 10 seconds, sleep count: 1, loop_index: 77\n",
      "API rate limit reached - waiting 10 seconds, sleep count: 2, loop_index: 88"
     ]
    }
   ],
   "source": [
    "# Constants\n",
    "REGION = 'na'\n",
    "STATUS_OK = 200\n",
    "STATUS_RATE_LIMIT_EXCEEDED = 429\n",
    "valid_rank_games = ['RANKED_SOLO_5x5',  # Ranked Solo 5v5 games\n",
    "                    'RANKED_PREMADE_3x3',  # Ranked Premade 3v3 games\n",
    "                    'RANKED_PREMADE_5x5',  # Ranked Premade 5v5 games\n",
    "                    'RANKED_TEAM_3x3',  # Ranked Team 3v3 games\n",
    "                    'RANKED_TEAM_5x5']  # Ranked Team 5v5 games\n",
    "\n",
    "# Starting MatchID\n",
    "# STARTING_MATCH_ID = 2026937783\n",
    "\n",
    "# Functions that check status of the data pulls\n",
    "def isValid(match):\n",
    "    if match.status_code != STATUS_OK:\n",
    "        return False\n",
    "    return True\n",
    "\n",
    "def isClassicMatch(match):\n",
    "    j = match.json()\n",
    "    if j['mapId'] == 11 and j['matchMode'] == \"CLASSIC\" and j['matchType'] == 'MATCHED_GAME':\n",
    "        return True\n",
    "    else:\n",
    "        return False\n",
    "\n",
    "def isRankMatch(match):\n",
    "    j = match.json()\n",
    "    if j['queueType'] in valid_rank_games:\n",
    "        return True\n",
    "    else:\n",
    "        return False\n",
    "                    \n",
    "def rateLimitExceeded(match):\n",
    "    if int(match.status_code) == STATUS_RATE_LIMIT_EXCEEDED:\n",
    "        return True\n",
    "    return False\n",
    "\n",
    "# index for the while-loop\n",
    "i = 0\n",
    "# counting the number of data retrieved\n",
    "n = 0\n",
    "# counting how many times we sleep in case we hit a dead-end\n",
    "sleep_counter = 0\n",
    "\n",
    "while i < 100000:\n",
    "    # break out of the loop when there are no more match_id's left\n",
    "    if match_id_list == []:\n",
    "        print \"ran out of starting match ID's. ending the loop\"\n",
    "        break\n",
    "    \n",
    "    # incrementing index\n",
    "    i += 1\n",
    "    #print (\"i: %d, match_id: %d\") % (i, match_id_list[0] + i)    \n",
    "    \n",
    "    current_match_id = match_id_list[0] + i\n",
    "    m = get_match(REGION, current_match_id, True)\n",
    "    \n",
    "    if not rateLimitExceeded(m):\n",
    "        if isValid(m) and isClassicMatch(m) and isRankMatch(m):\n",
    "            \n",
    "            ################## UNCOMMENT AND DELETE IRRELEVANT PARTS HERE ###############\n",
    "            # if your name is sean, uncomment this\n",
    "            f = open(\"dump/\" + str(i + match_id_list[0])+\".json\", 'w+')\n",
    "            # if you went to Kareoke Thursday night, uncomment this\n",
    "            #f = open(\"dump_jaemin/\" + str(i + STARTING_MATCH_ID)+\".json\", 'w+')\n",
    "            # if your name is Lenny Key, uncomment this\n",
    "            #f = open(\"dump_kenny/\" + str(i + STARTING_MATCH_ID)+\".json\", 'w+')\n",
    "            # if you're the dying president of Samsung, uncomment this\n",
    "            #f = open(\"dump_andrew/\" + str(i + STARTING_MATCH_ID)+\".json\", 'w+')\n",
    "                     \n",
    "            f.write(m.text.encode('utf-8'))\n",
    "            n += 1\n",
    "            print 'n: %d, ts: %s, gamdID: %d, date: %s, season: %s, tier: %s, loop_index: %d' % (n, datetime.datetime.fromtimestamp(time.time()).strftime('%m-%d %H:%M:%S'), \n",
    "                                                                                                 current_match_id, \n",
    "                                                                                                 ('%s' % (time.strftime('%m-%d', time.localtime(m.json()['matchCreation']/1000)))),\n",
    "                                                                                                 m.json()['season'], m.json()['participants'][1]['highestAchievedSeasonTier'], i)\n",
    "            f.close()\n",
    "            # reset sleep_counter if we are get data again\n",
    "            sleep_counter = 0\n",
    "    else:\n",
    "        sleep_counter += 1\n",
    "        print(\"API rate limit reached - waiting 10 seconds, sleep count: %d, loop_index: %d\") % (sleep_counter, i)\n",
    "        time.sleep(10)\n",
    "        \n",
    "        # if we have to sleep 30 times, we will assume that we are in no man's land and move onto the next id on list\n",
    "        if sleep_counter >= 30:\n",
    "            del match_id_list[0]\n",
    "            sleep_counter = 0\n",
    "            i = 0\n",
    "            print (\"Seems like we hit a dead-end. Starting from the next match id on the list. new_starting_point: %d\") % match_id_list[0]"
   ]
  }
 ],
 "metadata": {
  "kernelspec": {
   "display_name": "Python 2",
   "language": "python",
   "name": "python2"
  },
  "language_info": {
   "codemirror_mode": {
    "name": "ipython",
    "version": 2
   },
   "file_extension": ".py",
   "mimetype": "text/x-python",
   "name": "python",
   "nbconvert_exporter": "python",
   "pygments_lexer": "ipython2",
   "version": "2.7.10"
  }
 },
 "nbformat": 4,
 "nbformat_minor": 0
}
