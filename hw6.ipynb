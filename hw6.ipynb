{
 "cells": [
  {
   "cell_type": "markdown",
   "metadata": {},
   "source": [
    "#WomboCombo: Optimizing Team Composition in League of Legends\n",
    "### by Data of Legends (Sean Cha, Jaemin Cheun, Kenny Lei, Andrew Paek) \n",
    "###Assigned TF: Léandra King"
   ]
  },
  {
   "cell_type": "markdown",
   "metadata": {},
   "source": [
    "<img src=\"http://36646d87786feafc0611-0338bbbce19fc98919c6293def4c5554.r0.cf1.rackcdn.com/images/FiGZ9r3D3E82.878x0.Z-Z96KYq.jpg\" width=610 height=347/>"
   ]
  },
  {
   "cell_type": "markdown",
   "metadata": {},
   "source": [
    "#Table of Contents\n",
    "\n",
    "* [WomboCombo: Optimizing Team Composition in League of Legends](#WomboCombo: Optimizing Team Composition in League of Legends)\n",
    "\t* [Introduction](#Introduction)\n",
    "\t\t* [Different Roles](#Different Roles)\n",
    "        * [Objectives](#Objectives)\n",
    "\t* [Part I: Data Retrieval & Cleaning](#Part-I-Data-Retrieval-&-Cleaning)\n",
    "\t\t* [League of Legends API](#LoL-API)\n",
    "        * [Pulling and Saving JSON Files](#JSON-Files)\n",
    "\t\t* [Pre-processing Data](#pre-processing)\n",
    "\t\t* [Feature Selection](#feature-selection)\n",
    "    * [Part II: Exploratory Data Analysis](#EDA)\n",
    "\t\t* [Making baseline predictions](#baseline-predictions)\n",
    "\t\t\t* [1.3 Make the prediction from the `baseline` model](#1.3-Make-the-prediction-from-the-baseline-model)\n",
    "    * [Part III: Clustering Algorithms](#clustering)\n",
    "\t\t* [Making baseline predictions](#Making-baseline-predictions)\n",
    "\t\t\t* [1.3 Make the prediction from the `baseline` model](#1.3-Make-the-prediction-from-the-baseline-model)        "
   ]
  },
  {
   "cell_type": "markdown",
   "metadata": {},
   "source": [
    "##Introduction <a id='Introduction'></a>\n",
    "\n",
    "League of Legends (LoL) is the most popular game in the world. LoL is a fast-paced, competitive online game that blends the speed and intensity of an RTS with RPG elements. Two teams of 5 powerful champions, each with a unique design and playstyle, battle head-to-head across multiple battlefields and game modes. With an ever-expanding roster of champions, frequent updates and a thriving tournament scene, League of Legends offers endless replayability for players of every skill level.\n",
    "\n",
    "The main objective of the game is to knock down the enemies' towers using the champions, while the enemy team is trying to do the same. Towers are difficult to destroy with the enemy defending them, so most of the game revolves around killing enemy champions in order to buy the necessary time to bring down enemy towers.\n",
    "\n",
    "Team composition is extremely important in the game. Each champion out of the roster of 128 (and growing!) carries its own unique abilities, utility, and play style that it can contribute to the team. Simply put, a team of 5 champions that share similar roles in the game would be very ineffective against a well-balanced team. Let's look at some examples."
   ]
  },
  {
   "cell_type": "markdown",
   "metadata": {},
   "source": [
    "### Different Roles <a id='Different Roles'></a>\n",
    "This is LeBlanc. Her primary role in the game is an assassin. She has an extremely low physical damage power (red bar) and low health (green bar). However, she has a HUGE ability power (blue bar), allowing her to use quick burst of ability power to kill enemies in a split second. She is extremely effective in assassinating enemy champions that are roaming around the map by themselves. Since her abilities have a very long cool-down (time for her to be able to cast spells again), she is in deep trouble if she cannot kill the enemy champion the first time around. In a team fight, LeBlanc focuses on killing high priority enemy champions. This is an old video from a few seasons back, but it really demonstrates what LeBlanc is capable of: https://www.youtube.com/watch?v=lsBJEvwi66k.\n",
    "<img src=http://i.imgur.com/G5jbBpq.png>\n",
    "\n",
    "This is Malphite. His primary role is a tank. He has high health and defensive statistics, allowing him to last a long time in a team fight. Although he cannot quickly kill enemy champions the way LeBlanc does, he is able to follow around and harrass/interrupt high-priority enemy champions in their attempts to kill ours. He is also an \"utility\" champion, meaning that he has various \"crowd-controlling\" abilities that slow down and knocks up enemy champions, making it easier for our champions to target them. This is an example of Malphite's specialty in initiating a team fight and tankiness: https://youtu.be/pE3aLnoB7oA?t=17m53s.\n",
    "<img src=http://i.imgur.com/POWWt9u.png>\n",
    "\n",
    "These are only 2 of the 128 champions that players can choose to play. As you can see, LeBlanc and Malphite have very distinctly different roles in the game. It would be a disaster for a team to have 5 \"tank\" champions, since tanky champions, despite their resilience, cannot deal enough damage to kill enemy champions. A team of only assassins will also have no luck in winning; without a reliable tanker to take the frontline and disrupt the enemy, the LeBlancs will quickly \"evaporate to death.\"\n",
    "\n",
    "This is where team composition comes in. A team that has both a Malphite and a LeBlanc will be extremely effective. While Malphite slows down enemies and takes all the damages, LeBlanc can focus on dealing massive magic damage to the enemy champions. Other notable roles include that of a fighter (a champion that can deal consistent damage over time while taking moderate damage), a support (a champion specializing in crowd control abilities to disable enemy champions and healing to protect our champions), a marksman (a range-attack champion who is extremely vulnerable but can deal a massive amount of damage from a distance), etc.\n",
    "\n",
    "Certain set of champions complement each other really well, thus the coinage of the term, Wombo Combo. To look at some examples of Wombo Combos, please see: https://www.youtube.com/watch?v=TW6bdxnFcjs"
   ]
  },
  {
   "cell_type": "markdown",
   "metadata": {},
   "source": [
    "###Objectives <a id='Objectives'></a>\n",
    "\n",
    "We hope to gain insight on optimal team composition by analyzing match data.\n",
    "\n",
    "First, we use Riot's League of Legends API (https://developer.riotgames.com/docs/rate-limiting) to download the necessary data. Then, we preprocess and clean the raw JSON data to a workable structure.\n",
    "\n",
    "Next, we conduct Exploratory Data Analysis (EDA) to answer some basic questions regarding our data set. By visualizing and playing around with the data, we gain additional insight that will be helpful in later parts.\n",
    "\n",
    "Then, we ... (WRITE ABOUT ALGORITHMS HERE)"
   ]
  },
  {
   "cell_type": "code",
   "execution_count": 2,
   "metadata": {
    "collapsed": true
   },
   "outputs": [],
   "source": [
    "import os\n",
    "import json\n",
    "import requests\n",
    "import time\n",
    "import datetime\n",
    "import types\n",
    "import numpy as np\n",
    "import scipy as sp\n",
    "import matplotlib as mpl\n",
    "import matplotlib.cm as cm\n",
    "import matplotlib.pyplot as plt\n",
    "import pandas as pd\n",
    "import seaborn as sns"
   ]
  },
  {
   "cell_type": "markdown",
   "metadata": {},
   "source": [
    "##Q1: Data Retrieval & Cleaning<a id='Part-I-Data-Retrieval-&-Cleaning'></a>\n",
    "\n",
    "### League of Legends API <a id='LoL-API'></a>\n",
    "\n",
    "Rate Limiting: The API allows one user to make 10 requests per 10 seconds and 500 requests per 10 minutes.\n",
    "\n",
    "For documentation, see https://developer.riotgames.com/api/methods.\n",
    "\n",
    "From the riot games API page,  \n",
    "<b>\"The rate limit for development keys is by design very limited:   \n",
    "10 requests every 10 seconds  \n",
    "                                                                500 requests every 10 minutes\" </b>\n",
    "\n",
    "However,\n",
    "\n",
    "<b>\"Note that rate limits are enforced per region. For example, with the above rate limit, you could make 10 requests every 10 seconds to both NA and EUW endpoints simultaneously.\"</b>\n",
    "\n",
    "If we try to only stick to North American server data, we will have to wait 10 seconds for every 10 requests. This would be very unfortunately inefficient. However, if we pull data from all of LoL's 10 global regions, we can continuously pull data without the rate limit's hinderance. When we reach the limit, we'll just jump regions!\n",
    "\n",
    "There may be slight variations in popular game styles from region to region. But keep in mind that LoL is a same game no matter where in the world you are. Whenever there is a champion update or an item patch, the entire world's LoL platform is updated simultaneously."
   ]
  },
  {
   "cell_type": "code",
   "execution_count": 3,
   "metadata": {
    "collapsed": true
   },
   "outputs": [],
   "source": [
    "# API KEY HERE\n",
    "KEY = 'b00c992b-6fc1-4795-abcc-7db85c1b72fa' # API Key associated with Sean's LoL account (ch920425)"
   ]
  },
  {
   "cell_type": "markdown",
   "metadata": {},
   "source": [
    "We define a function that makes a request for a match record by its matchID."
   ]
  },
  {
   "cell_type": "code",
   "execution_count": 4,
   "metadata": {
    "collapsed": true
   },
   "outputs": [],
   "source": [
    "# MATCH-v2.2\n",
    "REGION_ENDPOINT = \"https://{0}.api.pvp.net/api/lol/{0}/\"\n",
    "\n",
    "# FUNCTION TO PULL MATCH DATA\n",
    "def get_match(REGION, matchId, includeTimeline):\n",
    "    \"\"\"\n",
    "    Retrieve match by match ID.\n",
    "    \"\"\"\n",
    "    return requests.get(\n",
    "        (REGION_ENDPOINT + \"v2.2/match/{1}?\"\n",
    "         \"api_key={2}&includeTimeline={3}\").\n",
    "        format(REGION, matchId, KEY, includeTimeline))"
   ]
  },
  {
   "cell_type": "markdown",
   "metadata": {},
   "source": [
    "We establish constants that allow us to check whether we are within the API's rate limit. \n",
    "\n",
    "We define several functions that allow us to filter out the data we want.\n",
    "\n",
    "There are different \"game modes\" and \"queue types\" in League of Legends. We only want to look at the most popular type people play, which are \"classic\" 5v5 match on a map called Summoner's Rift. We also want to only look at \"Ranked\" games, which affect the player's scores and ranking within the gaming ecosystem. In Ranked games, people are motivated to put in their best efforts to advance to higher tier systems. Simply put, classic ranked game data will manifest champion selections and play styles that players themselves would find optimal. We want to capture this optimally conventionally play style and find patterns.\n",
    "\n",
    "However...\n",
    "\n",
    "API Limitations: The API does not allow us to specify what type of game mode or queue type we want to pull. There is no real distinguishable pattern within matchID's neither. We will have to pick a starting point (an arbitrary matchID), increment the ID by 1, pull the data, check to see whether it satisfies our requirements, and then decide to store it.\n",
    "\n",
    "This process does take a long time. We have run the scripts to selectively pull data this way for days and nights on multiple machines."
   ]
  },
  {
   "cell_type": "code",
   "execution_count": 40,
   "metadata": {
    "collapsed": true
   },
   "outputs": [],
   "source": [
    "# Constants\n",
    "STATUS_OK = 200                  # Shows that we have successfully pulled data\n",
    "STATUS_RATE_LIMIT_EXCEEDED = 429 # Tells us that we have to wait 10 seconds before requesting again\n",
    "\n",
    "# Region Servers from which to retrieve data\n",
    "# North America, Korea, Europe Nordic and East, Europe West, Latin America \n",
    "REGION_list = ['na',     # North America\n",
    "               'kr',     # Korea\n",
    "               'eune',   # Europe Nordic and East\n",
    "               'euw',    # Europe West\n",
    "               'lan',    # Latin America North\n",
    "               'las',    # Latin America South\n",
    "               'oce',    # Oceania\n",
    "               'ru',     # Russia\n",
    "               'br',     # Brazil\n",
    "               'tr']     # Turkey\n",
    "\n",
    "# Only interested in 5v5 RANKED games\n",
    "valid_rank_games = ['RANKED_SOLO_5x5',     # Ranked Solo 5v5 games\n",
    "                    'RANKED_PREMADE_5x5',  # Ranked Premade 5v5 games\n",
    "                    'RANKED_TEAM_5x5']     # Ranked Team 5v5 games\n",
    "\n",
    "# Functions that check status of the data pulls\n",
    "def isValid(match):\n",
    "    if match.status_code != STATUS_OK:\n",
    "        return False\n",
    "    return True\n",
    "\n",
    "# We only look at 'MATCHED_GAME' since 'CUSTOM_GAME' is where people try experimental champions and play styles\n",
    "def isClassicMatch(match):\n",
    "    j = match.json()\n",
    "    if j['mapId'] == 11 and j['matchMode'] == \"CLASSIC\" and j['matchType'] == 'MATCHED_GAME':\n",
    "        return True\n",
    "    else:\n",
    "        return False\n",
    "\n",
    "# Checking if ranked game\n",
    "def isRankMatch(match):\n",
    "    j = match.json()\n",
    "    if j['queueType'] in valid_rank_games:\n",
    "        return True\n",
    "    else:\n",
    "        return False\n",
    "\n",
    "# Check whether we went over the API Rate Limit                     \n",
    "def rateLimitExceeded(match):\n",
    "    if int(match.status_code) == STATUS_RATE_LIMIT_EXCEEDED:\n",
    "        return True\n",
    "    return False"
   ]
  },
  {
   "cell_type": "markdown",
   "metadata": {},
   "source": [
    "### Pulling and Saving JSON Files <a id='JSON-Files'></a>\n",
    "As mentioned above, matchID's do not have a defining pattern. For the most part, they seem to increase incrementally and similar game modes/types seem to be clustered around. Other times, they are long succession of empty numbers (404 status where there is no game stored for that matchID).\n",
    "\n",
    "We start with a region (ex. North America) and a match ID from that region. We first have a list of matchID's of the world's high-ranked players' recent match history. "
   ]
  },
  {
   "cell_type": "code",
   "execution_count": 41,
   "metadata": {
    "collapsed": true
   },
   "outputs": [],
   "source": [
    "# List of starting MatchID's for each region was found by looking up skilled players and their recent games\n",
    "# on this website: http://www.lolsummoners.com/ladders/\n",
    "regional_match_id = {'br': 667070831,\n",
    "                     'eune': 1297476531,\n",
    "                     'euw': 2416867378,\n",
    "                     'kr': 2192854102,\n",
    "                     'lan': 229958232,\n",
    "                     'las': 273070421,\n",
    "                     'na': 2029999649,\n",
    "                     'oce': 113870290,\n",
    "                     'ru': 84050671,\n",
    "                     'tr': 325244412}"
   ]
  },
  {
   "cell_type": "markdown",
   "metadata": {},
   "source": [
    "Then, we pull the matchID, examine it to see if it meets our criteria, and save it to as a JSON file if it does. Then, we increment the matchID and continue the process. Once we reach the rate limit for the region, we move onto the next region and continue the same process. Going through all 10 regions make it so that we are not limited by the rate limit. By the time we make a way around the world (all 10 regions), the rate limit time of 10 seconds for the first region has already passed. Thus, we do not have to waste any time waiting for the API to 'clear' us.\n",
    "\n",
    "The data is saved in JSON format one by one in '/dump' sub-directory. Each JSON file is named by the region marker followed by the matchID."
   ]
  },
  {
   "cell_type": "code",
   "execution_count": 42,
   "metadata": {
    "collapsed": false
   },
   "outputs": [
    {
     "name": "stdout",
     "output_type": "stream",
     "text": [
      "n: 1, ts: 20:51:59, ID: 2029999649, date: 12-06, season: PRESEASON2016, tier: GOLD, loop_index: 0, region: NA\n",
      "n: 2, ts: 20:52:00, ID: 2029999651, date: 12-06, season: PRESEASON2016, tier: UNRANKED, loop_index: 2, region: NA\n",
      "n: 3, ts: 20:52:01, ID: 2029999652, date: 12-06, season: PRESEASON2016, tier: PLATINUM, loop_index: 3, region: NA\n",
      "n: 4, ts: 20:52:03, ID: 2029999656, date: 12-06, season: PRESEASON2016, tier: GOLD, loop_index: 7, region: NA\n",
      "rate limit reached at na, moving onto kr\n",
      "n: 5, ts: 20:52:12, ID: 2192854110, date: 12-06, season: PRESEASON2016, tier: SILVER, loop_index: 19, region: KR\n",
      "rate limit reached at kr, moving onto eune\n",
      "n: 6, ts: 20:52:18, ID: 1297476540, date: 12-06, season: PRESEASON2016, tier: PLATINUM, loop_index: 31, region: EUNE\n",
      "rate limit reached at eune, moving onto euw\n",
      "rate limit reached at euw, moving onto lan\n",
      "rate limit reached at lan, moving onto las\n",
      "rate limit reached at las, moving onto oce\n",
      "n: 7, ts: 20:52:37, ID: 113870297, date: 12-02, season: PRESEASON2016, tier: GOLD, loop_index: 73, region: OCE\n",
      "rate limit reached at oce, moving onto ru\n",
      "n: 8, ts: 20:52:40, ID: 84050673, date: 12-01, season: PRESEASON2016, tier: BRONZE, loop_index: 79, region: RU\n",
      "rate limit reached at ru, moving onto br\n",
      "rate limit reached at br, moving onto tr\n"
     ]
    }
   ],
   "source": [
    "# We modified the code from https://github.com/LionTurtle/TeamCompML/\n",
    "\n",
    "# initializing indices\n",
    "i, n, r = (0, 0, 0) # i = incrementing starting match ID, n = number of games retrieved, r = region list index)\n",
    "\n",
    "# We keep the range low here for demonstration purposes. \n",
    "# In reality, we set the range to 100,000 and let it run days and nights\n",
    "for k in range(100):\n",
    "    \n",
    "    # current region\n",
    "    curr_region = REGION_list[r]\n",
    "    \n",
    "    # increment match ID of the current region\n",
    "    current_match_id = regional_match_id[curr_region] + i\n",
    "    i += 1\n",
    "    \n",
    "    # use the API function to receive information on this current_match_id minus timeline data\n",
    "    m = get_match(curr_region, current_match_id, False)\n",
    "    \n",
    "    if not rateLimitExceeded(m):\n",
    "        if isValid(m) and isClassicMatch(m) and isRankMatch(m):\n",
    "          \n",
    "            f = open(\"dump_global/\" + str(curr_region) + str(current_match_id) + \".json\", 'w+')\n",
    "            f.write(m.text.encode('utf-8'))\n",
    "            n += 1\n",
    "            print 'n: %d, ts: %s, ID: %d, date: %s, season: %s, tier: %s, loop_index: %d, region: %s' % (n, datetime.datetime.fromtimestamp(time.time()).strftime('%H:%M:%S'), \n",
    "                                                                                                 current_match_id, \n",
    "                                                                                                 ('%s' % (time.strftime('%m-%d', time.localtime(m.json()['matchCreation']/1000)))),\n",
    "                                                                                                 m.json()['season'], m.json()['participants'][1]['highestAchievedSeasonTier'], k,\n",
    "                                                                                                            m.json()['region'])\n",
    "            f.close()\n",
    "    else:  \n",
    "        # we save the new match id (incremented match id) to pick up pulling data for when the next cycle comes around\n",
    "        regional_match_id[curr_region] =  current_match_id + i\n",
    "        \n",
    "        # when we reach the rate limit for the region, we move onto the next region on the list\n",
    "        if (r == 9):\n",
    "            # go back to the beginning of the list of regions and start the cycle again\n",
    "            print (\"rate limit reached at %s, moving onto %s\") % (REGION_list[r], REGION_list[0])\n",
    "            r = 0\n",
    "        else:\n",
    "            print (\"rate limit reached at %s, moving onto %s\") % (REGION_list[r], REGION_list[r+1])\n",
    "            r += 1\n",
    "        # reset the incrementer    \n",
    "        i = 0"
   ]
  },
  {
   "cell_type": "markdown",
   "metadata": {},
   "source": [
    "### Pre-processing Data <a id='pre-processing'></a>\n",
    "\n",
    "Let's take a look at what the JSON files look like. It has a bunch of metrics that we won't use. We will focus on the in-game stats broken down by participant (player) that give us a quantitative overview of the person's play style and performance. "
   ]
  },
  {
   "cell_type": "code",
   "execution_count": 31,
   "metadata": {
    "collapsed": false
   },
   "outputs": [
    {
     "name": "stdout",
     "output_type": "stream",
     "text": [
      "{u'queueType': u'RANKED_TEAM_5x5', u'matchVersion': u'5.23.0.239', u'platformId': u'NA1', u'season': u'PRESEASON2016', u'region': u'NA', u'matchId': 2026610783, u'mapId': 11, u'matchCreation': 1449099999881, u'teams': [{u'firstDragon': False, u'bans': [{u'pickTurn': 1, u'championId': 203}, {u'pickTurn': 3, u'championId': 41}, {u'pickTurn': 5, u'championId': 420}], u'firstInhibitor': False, u'baronKills': 0, u'firstRiftHerald': False, u'winner': True, u'firstBaron': False, u'riftHeraldKills': 1, u'firstBlood': True, u'teamId': 100, u'firstTower': False, u'vilemawKills': 0, u'inhibitorKills': 0, u'towerKills': 6, u'dominionVictoryScore': 0, u'dragonKills': 1}, {u'firstDragon': True, u'bans': [{u'pickTurn': 2, u'championId': 117}, {u'pickTurn': 4, u'championId': 16}, {u'pickTurn': 6, u'championId': 223}], u'firstInhibitor': False, u'baronKills': 0, u'firstRiftHerald': True, u'winner': False, u'firstBaron': False, u'riftHeraldKills': 1, u'firstBlood': False, u'teamId': 200, u'firstTower': True, u'vilemawKills': 0, u'inhibitorKills': 0, u'towerKills': 2, u'dominionVictoryScore': 0, u'dragonKills': 1}], u'participants': [{u'stats': {u'item1': 3069, u'totalPlayerScore': 0, u'unrealKills': 0, u'objectivePlayerScore': 0, u'largestCriticalStrike': 0, u'totalDamageDealt': 14753, u'magicDamageDealtToChampions': 4025, u'largestMultiKill': 2, u'largestKillingSpree': 2, u'quadraKills': 0, u'magicDamageTaken': 2804, u'towerKills': 1, u'totalTimeCrowdControlDealt': 163, u'neutralMinionsKilledEnemyJungle': 0, u'firstTowerAssist': False, u'neutralMinionsKilledTeamJungle': 0, u'wardsKilled': 6, u'physicalDamageDealt': 3795, u'item2': 3158, u'item3': 3105, u'item0': 2049, u'winner': True, u'item6': 3341, u'wardsPlaced': 16, u'item4': 2043, u'item5': 3067, u'minionsKilled': 20, u'tripleKills': 0, u'champLevel': 10, u'magicDamageDealt': 10958, u'kills': 2, u'doubleKills': 1, u'firstInhibitorKill': False, u'trueDamageTaken': 96, u'firstBloodAssist': False, u'firstBloodKill': False, u'assists': 8, u'deaths': 1, u'neutralMinionsKilled': 0, u'combatPlayerScore': 0, u'visionWardsBoughtInGame': 4, u'physicalDamageDealtToChampions': 1035, u'goldSpent': 6750, u'trueDamageDealt': 0, u'trueDamageDealtToChampions': 0, u'pentaKills': 0, u'firstInhibitorAssist': False, u'firstTowerKill': False, u'totalHeal': 1134, u'goldEarned': 6865, u'sightWardsBoughtInGame': 0, u'totalDamageDealtToChampions': 5060, u'totalUnitsHealed': 1, u'inhibitorKills': 0, u'totalScoreRank': 0, u'totalDamageTaken': 8073, u'killingSprees': 1, u'physicalDamageTaken': 5172}, u'championId': 43, u'participantId': 1, u'runes': [{u'runeId': 5297, u'rank': 9}, {u'runeId': 5315, u'rank': 9}, {u'runeId': 5347, u'rank': 2}, {u'runeId': 5357, u'rank': 1}, {u'runeId': 5402, u'rank': 9}], u'highestAchievedSeasonTier': u'DIAMOND', u'masteries': [{u'masteryId': 6211, u'rank': 5}, {u'masteryId': 6221, u'rank': 1}, {u'masteryId': 6231, u'rank': 5}, {u'masteryId': 6241, u'rank': 1}, {u'masteryId': 6311, u'rank': 5}, {u'masteryId': 6322, u'rank': 1}, {u'masteryId': 6332, u'rank': 5}, {u'masteryId': 6342, u'rank': 1}, {u'masteryId': 6352, u'rank': 5}, {u'masteryId': 6363, u'rank': 1}], u'spell2Id': 4, u'teamId': 100, u'timeline': {u'lane': u'BOTTOM', u'csDiffPerMinDeltas': {u'zeroToTen': -0.25, u'tenToTwenty': 0.6999999999999997}, u'goldPerMinDeltas': {u'zeroToTen': 204.6, u'tenToTwenty': 328.20000000000005}, u'xpDiffPerMinDeltas': {u'zeroToTen': -21.049999999999997, u'tenToTwenty': 78.94999999999996}, u'creepsPerMinDeltas': {u'zeroToTen': 0.7, u'tenToTwenty': 1.3}, u'xpPerMinDeltas': {u'zeroToTen': 266.6, u'tenToTwenty': 331.4}, u'role': u'DUO_SUPPORT', u'damageTakenDiffPerMinDeltas': {u'zeroToTen': -4.700000000000017, u'tenToTwenty': 6.200000000000003}, u'damageTakenPerMinDeltas': {u'zeroToTen': 323.5, u'tenToTwenty': 399.6}}, u'spell1Id': 3}, {u'stats': {u'item1': 3031, u'totalPlayerScore': 0, u'unrealKills': 0, u'objectivePlayerScore': 0, u'largestCriticalStrike': 1100, u'totalDamageDealt': 70972, u'magicDamageDealtToChampions': 207, u'largestMultiKill': 1, u'largestKillingSpree': 0, u'quadraKills': 0, u'magicDamageTaken': 3174, u'towerKills': 0, u'totalTimeCrowdControlDealt': 20, u'neutralMinionsKilledEnemyJungle': 0, u'firstTowerAssist': False, u'neutralMinionsKilledTeamJungle': 4, u'wardsKilled': 0, u'physicalDamageDealt': 70621, u'item2': 1053, u'item3': 1001, u'item0': 1055, u'winner': True, u'item6': 3340, u'wardsPlaced': 6, u'item4': 0, u'item5': 1042, u'minionsKilled': 136, u'tripleKills': 0, u'champLevel': 11, u'magicDamageDealt': 351, u'kills': 2, u'doubleKills': 0, u'firstInhibitorKill': False, u'trueDamageTaken': 452, u'firstBloodAssist': False, u'firstBloodKill': False, u'assists': 3, u'deaths': 3, u'neutralMinionsKilled': 4, u'combatPlayerScore': 0, u'visionWardsBoughtInGame': 1, u'physicalDamageDealtToChampions': 5585, u'goldSpent': 5775, u'trueDamageDealt': 0, u'trueDamageDealtToChampions': 0, u'pentaKills': 0, u'firstInhibitorAssist': False, u'firstTowerKill': False, u'totalHeal': 1362, u'goldEarned': 8014, u'sightWardsBoughtInGame': 0, u'totalDamageDealtToChampions': 5793, u'totalUnitsHealed': 2, u'inhibitorKills': 0, u'totalScoreRank': 0, u'totalDamageTaken': 7410, u'killingSprees': 0, u'physicalDamageTaken': 3783}, u'championId': 51, u'participantId': 2, u'runes': [{u'runeId': 5245, u'rank': 8}, {u'runeId': 5251, u'rank': 1}, {u'runeId': 5277, u'rank': 4}, {u'runeId': 5289, u'rank': 5}, {u'runeId': 5317, u'rank': 9}, {u'runeId': 5337, u'rank': 3}], u'highestAchievedSeasonTier': u'DIAMOND', u'masteries': [{u'masteryId': 6111, u'rank': 5}, {u'masteryId': 6122, u'rank': 1}, {u'masteryId': 6131, u'rank': 5}, {u'masteryId': 6142, u'rank': 1}, {u'masteryId': 6151, u'rank': 5}, {u'masteryId': 6161, u'rank': 1}, {u'masteryId': 6311, u'rank': 5}, {u'masteryId': 6322, u'rank': 1}, {u'masteryId': 6331, u'rank': 5}, {u'masteryId': 6343, u'rank': 1}], u'spell2Id': 7, u'teamId': 100, u'timeline': {u'lane': u'BOTTOM', u'csDiffPerMinDeltas': {u'zeroToTen': -0.25, u'tenToTwenty': 0.6999999999999997}, u'goldPerMinDeltas': {u'zeroToTen': 231.20000000000002, u'tenToTwenty': 402.6}, u'xpDiffPerMinDeltas': {u'zeroToTen': -21.049999999999997, u'tenToTwenty': 78.94999999999996}, u'creepsPerMinDeltas': {u'zeroToTen': 5.2, u'tenToTwenty': 7.3999999999999995}, u'xpPerMinDeltas': {u'zeroToTen': 266.6, u'tenToTwenty': 401.0}, u'role': u'DUO_CARRY', u'damageTakenDiffPerMinDeltas': {u'zeroToTen': -4.700000000000017, u'tenToTwenty': 6.200000000000003}, u'damageTakenPerMinDeltas': {u'zeroToTen': 326.5, u'tenToTwenty': 278.4}}, u'spell1Id': 4}, {u'stats': {u'item1': 3174, u'totalPlayerScore': 0, u'unrealKills': 0, u'objectivePlayerScore': 0, u'largestCriticalStrike': 0, u'totalDamageDealt': 73049, u'magicDamageDealtToChampions': 6847, u'largestMultiKill': 1, u'largestKillingSpree': 3, u'quadraKills': 0, u'magicDamageTaken': 3228, u'towerKills': 3, u'totalTimeCrowdControlDealt': 804, u'neutralMinionsKilledEnemyJungle': 3, u'firstTowerAssist': False, u'neutralMinionsKilledTeamJungle': 2, u'wardsKilled': 2, u'physicalDamageDealt': 14614, u'item2': 3020, u'item3': 0, u'item0': 3089, u'winner': True, u'item6': 3340, u'wardsPlaced': 6, u'item4': 0, u'item5': 0, u'minionsKilled': 137, u'tripleKills': 0, u'champLevel': 12, u'magicDamageDealt': 58114, u'kills': 3, u'doubleKills': 0, u'firstInhibitorKill': False, u'trueDamageTaken': 120, u'firstBloodAssist': False, u'firstBloodKill': False, u'assists': 7, u'deaths': 0, u'neutralMinionsKilled': 5, u'combatPlayerScore': 0, u'visionWardsBoughtInGame': 1, u'physicalDamageDealtToChampions': 555, u'goldSpent': 8475, u'trueDamageDealt': 320, u'trueDamageDealtToChampions': 0, u'pentaKills': 0, u'firstInhibitorAssist': False, u'firstTowerKill': False, u'totalHeal': 1337, u'goldEarned': 8440, u'sightWardsBoughtInGame': 0, u'totalDamageDealtToChampions': 7403, u'totalUnitsHealed': 1, u'inhibitorKills': 0, u'totalScoreRank': 0, u'totalDamageTaken': 6848, u'killingSprees': 1, u'physicalDamageTaken': 3500}, u'championId': 61, u'participantId': 3, u'runes': [{u'runeId': 5273, u'rank': 9}, {u'runeId': 5296, u'rank': 9}, {u'runeId': 5316, u'rank': 9}, {u'runeId': 5357, u'rank': 3}], u'highestAchievedSeasonTier': u'PLATINUM', u'masteries': [{u'masteryId': 6114, u'rank': 5}, {u'masteryId': 6122, u'rank': 1}, {u'masteryId': 6131, u'rank': 5}, {u'masteryId': 6141, u'rank': 1}, {u'masteryId': 6154, u'rank': 5}, {u'masteryId': 6164, u'rank': 1}, {u'masteryId': 6312, u'rank': 5}, {u'masteryId': 6322, u'rank': 1}, {u'masteryId': 6331, u'rank': 5}, {u'masteryId': 6343, u'rank': 1}], u'spell2Id': 1, u'teamId': 100, u'timeline': {u'lane': u'MIDDLE', u'csDiffPerMinDeltas': {u'zeroToTen': 1.6999999999999997, u'tenToTwenty': 1.1999999999999997}, u'goldPerMinDeltas': {u'zeroToTen': 250.9, u'tenToTwenty': 439.1}, u'xpDiffPerMinDeltas': {u'zeroToTen': 5.199999999999989, u'tenToTwenty': -28.89999999999999}, u'creepsPerMinDeltas': {u'zeroToTen': 7.699999999999999, u'tenToTwenty': 5.8}, u'xpPerMinDeltas': {u'zeroToTen': 444.2, u'tenToTwenty': 345.5}, u'role': u'SOLO', u'damageTakenDiffPerMinDeltas': {u'zeroToTen': -131.7, u'tenToTwenty': -160.99999999999997}, u'damageTakenPerMinDeltas': {u'zeroToTen': 229.4, u'tenToTwenty': 311.9}}, u'spell1Id': 4}, {u'stats': {u'item1': 2049, u'totalPlayerScore': 0, u'unrealKills': 0, u'objectivePlayerScore': 0, u'largestCriticalStrike': 0, u'totalDamageDealt': 88251, u'magicDamageDealtToChampions': 6510, u'largestMultiKill': 2, u'largestKillingSpree': 6, u'quadraKills': 0, u'magicDamageTaken': 2867, u'towerKills': 0, u'totalTimeCrowdControlDealt': 553, u'neutralMinionsKilledEnemyJungle': 15, u'firstTowerAssist': False, u'neutralMinionsKilledTeamJungle': 46, u'wardsKilled': 4, u'physicalDamageDealt': 32565, u'item2': 3111, u'item3': 0, u'item0': 1413, u'winner': True, u'item6': 3364, u'wardsPlaced': 14, u'item4': 1011, u'item5': 1031, u'minionsKilled': 20, u'tripleKills': 0, u'champLevel': 12, u'magicDamageDealt': 48669, u'kills': 7, u'doubleKills': 1, u'firstInhibitorKill': False, u'trueDamageTaken': 523, u'firstBloodAssist': False, u'firstBloodKill': False, u'assists': 5, u'deaths': 1, u'neutralMinionsKilled': 61, u'combatPlayerScore': 0, u'visionWardsBoughtInGame': 3, u'physicalDamageDealtToChampions': 3577, u'goldSpent': 6950, u'trueDamageDealt': 7016, u'trueDamageDealtToChampions': 1202, u'pentaKills': 0, u'firstInhibitorAssist': False, u'firstTowerKill': False, u'totalHeal': 8175, u'goldEarned': 8974, u'sightWardsBoughtInGame': 0, u'totalDamageDealtToChampions': 11290, u'totalUnitsHealed': 1, u'inhibitorKills': 0, u'totalScoreRank': 0, u'totalDamageTaken': 17087, u'killingSprees': 1, u'physicalDamageTaken': 13696}, u'championId': 36, u'participantId': 4, u'runes': [{u'runeId': 5247, u'rank': 9}, {u'runeId': 5289, u'rank': 9}, {u'runeId': 5317, u'rank': 9}, {u'runeId': 5409, u'rank': 3}], u'highestAchievedSeasonTier': u'DIAMOND', u'masteries': [{u'masteryId': 6114, u'rank': 5}, {u'masteryId': 6121, u'rank': 1}, {u'masteryId': 6131, u'rank': 5}, {u'masteryId': 6142, u'rank': 1}, {u'masteryId': 6211, u'rank': 5}, {u'masteryId': 6223, u'rank': 1}, {u'masteryId': 6231, u'rank': 5}, {u'masteryId': 6242, u'rank': 1}, {u'masteryId': 6251, u'rank': 4}, {u'masteryId': 6252, u'rank': 1}, {u'masteryId': 6262, u'rank': 1}], u'spell2Id': 11, u'teamId': 100, u'timeline': {u'lane': u'JUNGLE', u'csDiffPerMinDeltas': {u'zeroToTen': -0.1, u'tenToTwenty': -1.2000000000000002}, u'goldPerMinDeltas': {u'zeroToTen': 327.3, u'tenToTwenty': 412.5}, u'xpDiffPerMinDeltas': {u'zeroToTen': 82.1, u'tenToTwenty': -50.30000000000001}, u'creepsPerMinDeltas': {u'zeroToTen': 0.30000000000000004, u'tenToTwenty': 1.6}, u'xpPerMinDeltas': {u'zeroToTen': 395.2, u'tenToTwenty': 381.1}, u'role': u'NONE', u'damageTakenDiffPerMinDeltas': {u'zeroToTen': 179.0, u'tenToTwenty': -88.0}, u'damageTakenPerMinDeltas': {u'zeroToTen': 665.4, u'tenToTwenty': 638.8}}, u'spell1Id': 4}, {u'stats': {u'item1': 2033, u'totalPlayerScore': 0, u'unrealKills': 0, u'objectivePlayerScore': 0, u'largestCriticalStrike': 0, u'totalDamageDealt': 107504, u'magicDamageDealtToChampions': 5053, u'largestMultiKill': 2, u'largestKillingSpree': 2, u'quadraKills': 0, u'magicDamageTaken': 2440, u'towerKills': 2, u'totalTimeCrowdControlDealt': 34, u'neutralMinionsKilledEnemyJungle': 5, u'firstTowerAssist': False, u'neutralMinionsKilledTeamJungle': 5, u'wardsKilled': 1, u'physicalDamageDealt': 64842, u'item2': 3047, u'item3': 3057, u'item0': 3146, u'winner': True, u'item6': 3340, u'wardsPlaced': 6, u'item4': 3124, u'item5': 3086, u'minionsKilled': 133, u'tripleKills': 0, u'champLevel': 13, u'magicDamageDealt': 41837, u'kills': 7, u'doubleKills': 1, u'firstInhibitorKill': False, u'trueDamageTaken': 1816, u'firstBloodAssist': False, u'firstBloodKill': True, u'assists': 4, u'deaths': 3, u'neutralMinionsKilled': 10, u'combatPlayerScore': 0, u'visionWardsBoughtInGame': 0, u'physicalDamageDealtToChampions': 7938, u'goldSpent': 10050, u'trueDamageDealt': 823, u'trueDamageDealtToChampions': 823, u'pentaKills': 0, u'firstInhibitorAssist': False, u'firstTowerKill': False, u'totalHeal': 3554, u'goldEarned': 10090, u'sightWardsBoughtInGame': 0, u'totalDamageDealtToChampions': 13816, u'totalUnitsHealed': 1, u'inhibitorKills': 0, u'totalScoreRank': 0, u'totalDamageTaken': 15120, u'killingSprees': 3, u'physicalDamageTaken': 10863}, u'championId': 24, u'participantId': 5, u'runes': [{u'runeId': 5245, u'rank': 9}, {u'runeId': 5290, u'rank': 3}, {u'runeId': 5295, u'rank': 6}, {u'runeId': 5317, u'rank': 9}, {u'runeId': 5337, u'rank': 3}], u'highestAchievedSeasonTier': u'PLATINUM', u'masteries': [{u'masteryId': 6111, u'rank': 5}, {u'masteryId': 6122, u'rank': 1}, {u'masteryId': 6131, u'rank': 5}, {u'masteryId': 6141, u'rank': 1}, {u'masteryId': 6212, u'rank': 5}, {u'masteryId': 6223, u'rank': 1}, {u'masteryId': 6232, u'rank': 5}, {u'masteryId': 6241, u'rank': 1}, {u'masteryId': 6251, u'rank': 5}, {u'masteryId': 6262, u'rank': 1}], u'spell2Id': 4, u'teamId': 100, u'timeline': {u'lane': u'TOP', u'csDiffPerMinDeltas': {u'zeroToTen': -1.2999999999999998, u'tenToTwenty': 3.8}, u'goldPerMinDeltas': {u'zeroToTen': 318.6, u'tenToTwenty': 504.90000000000003}, u'xpDiffPerMinDeltas': {u'zeroToTen': 64.5, u'tenToTwenty': 259.6}, u'creepsPerMinDeltas': {u'zeroToTen': 5.1, u'tenToTwenty': 7.699999999999999}, u'xpPerMinDeltas': {u'zeroToTen': 436.20000000000005, u'tenToTwenty': 586.4000000000001}, u'role': u'SOLO', u'damageTakenDiffPerMinDeltas': {u'zeroToTen': -241.9, u'tenToTwenty': 170.2}, u'damageTakenPerMinDeltas': {u'zeroToTen': 418.2, u'tenToTwenty': 820.9}}, u'spell1Id': 14}, {u'stats': {u'item1': 2049, u'totalPlayerScore': 0, u'unrealKills': 0, u'objectivePlayerScore': 0, u'largestCriticalStrike': 0, u'totalDamageDealt': 7375, u'magicDamageDealtToChampions': 1766, u'largestMultiKill': 1, u'largestKillingSpree': 0, u'quadraKills': 0, u'magicDamageTaken': 5200, u'towerKills': 0, u'totalTimeCrowdControlDealt': 94, u'neutralMinionsKilledEnemyJungle': 0, u'firstTowerAssist': True, u'neutralMinionsKilledTeamJungle': 0, u'wardsKilled': 5, u'physicalDamageDealt': 2563, u'item2': 2043, u'item3': 3117, u'item0': 3092, u'winner': False, u'item6': 3341, u'wardsPlaced': 12, u'item4': 3801, u'item5': 1033, u'minionsKilled': 12, u'tripleKills': 0, u'champLevel': 9, u'magicDamageDealt': 3649, u'kills': 1, u'doubleKills': 0, u'firstInhibitorKill': False, u'trueDamageTaken': 120, u'firstBloodAssist': False, u'firstBloodKill': False, u'assists': 6, u'deaths': 5, u'neutralMinionsKilled': 0, u'combatPlayerScore': 0, u'visionWardsBoughtInGame': 5, u'physicalDamageDealtToChampions': 1290, u'goldSpent': 5525, u'trueDamageDealt': 1162, u'trueDamageDealtToChampions': 0, u'pentaKills': 0, u'firstInhibitorAssist': False, u'firstTowerKill': False, u'totalHeal': 2159, u'goldEarned': 5634, u'sightWardsBoughtInGame': 0, u'totalDamageDealtToChampions': 3056, u'totalUnitsHealed': 9, u'inhibitorKills': 0, u'totalScoreRank': 0, u'totalDamageTaken': 9664, u'killingSprees': 0, u'physicalDamageTaken': 4343}, u'championId': 40, u'participantId': 6, u'runes': [{u'runeId': 5257, u'rank': 9}, {u'runeId': 5285, u'rank': 1}, {u'runeId': 5289, u'rank': 8}, {u'runeId': 5315, u'rank': 7}, {u'runeId': 5317, u'rank': 2}, {u'runeId': 5347, u'rank': 3}], u'highestAchievedSeasonTier': u'DIAMOND', u'masteries': [{u'masteryId': 6211, u'rank': 5}, {u'masteryId': 6221, u'rank': 1}, {u'masteryId': 6231, u'rank': 5}, {u'masteryId': 6241, u'rank': 1}, {u'masteryId': 6311, u'rank': 5}, {u'masteryId': 6322, u'rank': 1}, {u'masteryId': 6332, u'rank': 5}, {u'masteryId': 6342, u'rank': 1}, {u'masteryId': 6352, u'rank': 5}, {u'masteryId': 6363, u'rank': 1}], u'spell2Id': 3, u'teamId': 200, u'timeline': {u'lane': u'BOTTOM', u'csDiffPerMinDeltas': {u'zeroToTen': 0.25, u'tenToTwenty': -0.6999999999999997}, u'goldPerMinDeltas': {u'zeroToTen': 196.89999999999998, u'tenToTwenty': 270.5}, u'xpDiffPerMinDeltas': {u'zeroToTen': 21.049999999999997, u'tenToTwenty': -78.94999999999996}, u'creepsPerMinDeltas': {u'zeroToTen': 0.1, u'tenToTwenty': 0.6000000000000001}, u'xpPerMinDeltas': {u'zeroToTen': 279.3, u'tenToTwenty': 211.5}, u'role': u'DUO_SUPPORT', u'damageTakenDiffPerMinDeltas': {u'zeroToTen': 4.700000000000017, u'tenToTwenty': -6.200000000000003}, u'damageTakenPerMinDeltas': {u'zeroToTen': 296.0, u'tenToTwenty': 364.5}}, u'spell1Id': 4}, {u'stats': {u'item1': 3031, u'totalPlayerScore': 0, u'unrealKills': 0, u'objectivePlayerScore': 0, u'largestCriticalStrike': 1162, u'totalDamageDealt': 71995, u'magicDamageDealtToChampions': 245, u'largestMultiKill': 1, u'largestKillingSpree': 0, u'quadraKills': 0, u'magicDamageTaken': 3767, u'towerKills': 1, u'totalTimeCrowdControlDealt': 87, u'neutralMinionsKilledEnemyJungle': 0, u'firstTowerAssist': False, u'neutralMinionsKilledTeamJungle': 3, u'wardsKilled': 2, u'physicalDamageDealt': 69493, u'item2': 1001, u'item3': 1042, u'item0': 1042, u'winner': False, u'item6': 3363, u'wardsPlaced': 7, u'item4': 1055, u'item5': 3086, u'minionsKilled': 130, u'tripleKills': 0, u'champLevel': 10, u'magicDamageDealt': 779, u'kills': 1, u'doubleKills': 0, u'firstInhibitorKill': False, u'trueDamageTaken': 278, u'firstBloodAssist': False, u'firstBloodKill': False, u'assists': 5, u'deaths': 3, u'neutralMinionsKilled': 3, u'combatPlayerScore': 0, u'visionWardsBoughtInGame': 2, u'physicalDamageDealtToChampions': 9711, u'goldSpent': 6400, u'trueDamageDealt': 1722, u'trueDamageDealtToChampions': 520, u'pentaKills': 0, u'firstInhibitorAssist': False, u'firstTowerKill': True, u'totalHeal': 1165, u'goldEarned': 6803, u'sightWardsBoughtInGame': 0, u'totalDamageDealtToChampions': 10477, u'totalUnitsHealed': 3, u'inhibitorKills': 0, u'totalScoreRank': 0, u'totalDamageTaken': 8234, u'killingSprees': 0, u'physicalDamageTaken': 4189}, u'championId': 222, u'participantId': 7, u'runes': [{u'runeId': 5245, u'rank': 9}, {u'runeId': 5277, u'rank': 4}, {u'runeId': 5290, u'rank': 5}, {u'runeId': 5317, u'rank': 9}, {u'runeId': 5337, u'rank': 3}], u'highestAchievedSeasonTier': u'DIAMOND', u'masteries': [{u'masteryId': 6111, u'rank': 5}, {u'masteryId': 6122, u'rank': 1}, {u'masteryId': 6131, u'rank': 5}, {u'masteryId': 6141, u'rank': 1}, {u'masteryId': 6151, u'rank': 5}, {u'masteryId': 6161, u'rank': 1}, {u'masteryId': 6312, u'rank': 5}, {u'masteryId': 6322, u'rank': 1}, {u'masteryId': 6332, u'rank': 5}, {u'masteryId': 6343, u'rank': 1}], u'spell2Id': 7, u'teamId': 200, u'timeline': {u'lane': u'BOTTOM', u'csDiffPerMinDeltas': {u'zeroToTen': 0.25, u'tenToTwenty': -0.6999999999999997}, u'goldPerMinDeltas': {u'zeroToTen': 291.0, u'tenToTwenty': 319.29999999999995}, u'xpDiffPerMinDeltas': {u'zeroToTen': 21.049999999999997, u'tenToTwenty': -78.94999999999996}, u'creepsPerMinDeltas': {u'zeroToTen': 6.300000000000001, u'tenToTwenty': 6.699999999999999}, u'xpPerMinDeltas': {u'zeroToTen': 296.0, u'tenToTwenty': 363.0}, u'role': u'DUO_CARRY', u'damageTakenDiffPerMinDeltas': {u'zeroToTen': 4.700000000000017, u'tenToTwenty': -6.200000000000003}, u'damageTakenPerMinDeltas': {u'zeroToTen': 363.4, u'tenToTwenty': 301.1}}, u'spell1Id': 4}, {u'stats': {u'item1': 2043, u'totalPlayerScore': 0, u'unrealKills': 0, u'objectivePlayerScore': 0, u'largestCriticalStrike': 0, u'totalDamageDealt': 77351, u'magicDamageDealtToChampions': 6521, u'largestMultiKill': 2, u'largestKillingSpree': 3, u'quadraKills': 0, u'magicDamageTaken': 4539, u'towerKills': 0, u'totalTimeCrowdControlDealt': 315, u'neutralMinionsKilledEnemyJungle': 4, u'firstTowerAssist': True, u'neutralMinionsKilledTeamJungle': 37, u'wardsKilled': 1, u'physicalDamageDealt': 21002, u'item2': 1001, u'item3': 1414, u'item0': 2031, u'winner': False, u'item6': 3340, u'wardsPlaced': 10, u'item4': 3116, u'item5': 0, u'minionsKilled': 35, u'tripleKills': 0, u'champLevel': 11, u'magicDamageDealt': 50715, u'kills': 3, u'doubleKills': 1, u'firstInhibitorKill': False, u'trueDamageTaken': 440, u'firstBloodAssist': False, u'firstBloodKill': False, u'assists': 4, u'deaths': 3, u'neutralMinionsKilled': 41, u'combatPlayerScore': 0, u'visionWardsBoughtInGame': 3, u'physicalDamageDealtToChampions': 1094, u'goldSpent': 6550, u'trueDamageDealt': 5634, u'trueDamageDealtToChampions': 756, u'pentaKills': 0, u'firstInhibitorAssist': False, u'firstTowerKill': False, u'totalHeal': 3097, u'goldEarned': 6961, u'sightWardsBoughtInGame': 0, u'totalDamageDealtToChampions': 8371, u'totalUnitsHealed': 1, u'inhibitorKills': 0, u'totalScoreRank': 0, u'totalDamageTaken': 14033, u'killingSprees': 1, u'physicalDamageTaken': 9052}, u'championId': 60, u'participantId': 8, u'runes': [{u'runeId': 5277, u'rank': 9}, {u'runeId': 5317, u'rank': 9}, {u'runeId': 5337, u'rank': 1}, {u'runeId': 5357, u'rank': 2}, {u'runeId': 5402, u'rank': 9}], u'highestAchievedSeasonTier': u'UNRANKED', u'masteries': [{u'masteryId': 6111, u'rank': 5}, {u'masteryId': 6121, u'rank': 1}, {u'masteryId': 6131, u'rank': 5}, {u'masteryId': 6142, u'rank': 1}, {u'masteryId': 6311, u'rank': 5}, {u'masteryId': 6322, u'rank': 1}, {u'masteryId': 6331, u'rank': 5}, {u'masteryId': 6343, u'rank': 1}, {u'masteryId': 6351, u'rank': 5}, {u'masteryId': 6362, u'rank': 1}], u'spell2Id': 11, u'teamId': 200, u'timeline': {u'lane': u'JUNGLE', u'csDiffPerMinDeltas': {u'zeroToTen': 0.1, u'tenToTwenty': 1.2000000000000002}, u'goldPerMinDeltas': {u'zeroToTen': 296.6, u'tenToTwenty': 323.4}, u'xpDiffPerMinDeltas': {u'zeroToTen': -82.1, u'tenToTwenty': 50.30000000000001}, u'creepsPerMinDeltas': {u'zeroToTen': 0.4, u'tenToTwenty': 2.8}, u'xpPerMinDeltas': {u'zeroToTen': 313.1, u'tenToTwenty': 431.4}, u'role': u'NONE', u'damageTakenDiffPerMinDeltas': {u'zeroToTen': -179.0, u'tenToTwenty': 88.0}, u'damageTakenPerMinDeltas': {u'zeroToTen': 486.4, u'tenToTwenty': 726.8}}, u'spell1Id': 4}, {u'stats': {u'item1': 1028, u'totalPlayerScore': 0, u'unrealKills': 0, u'objectivePlayerScore': 0, u'largestCriticalStrike': 0, u'totalDamageDealt': 64080, u'magicDamageDealtToChampions': 0, u'largestMultiKill': 1, u'largestKillingSpree': 0, u'quadraKills': 0, u'magicDamageTaken': 5115, u'towerKills': 1, u'totalTimeCrowdControlDealt': 287, u'neutralMinionsKilledEnemyJungle': 0, u'firstTowerAssist': False, u'neutralMinionsKilledTeamJungle': 7, u'wardsKilled': 1, u'physicalDamageDealt': 58906, u'item2': 1055, u'item3': 3111, u'item0': 1055, u'winner': False, u'item6': 3340, u'wardsPlaced': 7, u'item4': 3071, u'item5': 0, u'minionsKilled': 105, u'tripleKills': 0, u'champLevel': 10, u'magicDamageDealt': 0, u'kills': 2, u'doubleKills': 0, u'firstInhibitorKill': False, u'trueDamageTaken': 771, u'firstBloodAssist': False, u'firstBloodKill': False, u'assists': 1, u'deaths': 8, u'neutralMinionsKilled': 7, u'combatPlayerScore': 0, u'visionWardsBoughtInGame': 0, u'physicalDamageDealtToChampions': 7772, u'goldSpent': 6200, u'trueDamageDealt': 5173, u'trueDamageDealtToChampions': 1732, u'pentaKills': 0, u'firstInhibitorAssist': False, u'firstTowerKill': False, u'totalHeal': 960, u'goldEarned': 6682, u'sightWardsBoughtInGame': 0, u'totalDamageDealtToChampions': 9504, u'totalUnitsHealed': 1, u'inhibitorKills': 0, u'totalScoreRank': 0, u'totalDamageTaken': 15385, u'killingSprees': 0, u'physicalDamageTaken': 9499}, u'championId': 2, u'participantId': 9, u'runes': [{u'runeId': 5245, u'rank': 9}, {u'runeId': 5295, u'rank': 9}, {u'runeId': 5317, u'rank': 9}, {u'runeId': 5335, u'rank': 2}, {u'runeId': 5355, u'rank': 1}], u'highestAchievedSeasonTier': u'UNRANKED', u'masteries': [{u'masteryId': 6111, u'rank': 5}, {u'masteryId': 6121, u'rank': 1}, {u'masteryId': 6131, u'rank': 5}, {u'masteryId': 6142, u'rank': 1}, {u'masteryId': 6151, u'rank': 5}, {u'masteryId': 6162, u'rank': 1}, {u'masteryId': 6211, u'rank': 5}, {u'masteryId': 6223, u'rank': 1}, {u'masteryId': 6232, u'rank': 5}, {u'masteryId': 6241, u'rank': 1}], u'spell2Id': 6, u'teamId': 200, u'timeline': {u'lane': u'TOP', u'csDiffPerMinDeltas': {u'zeroToTen': 1.2999999999999998, u'tenToTwenty': -3.8}, u'goldPerMinDeltas': {u'zeroToTen': 271.6, u'tenToTwenty': 320.29999999999995}, u'xpDiffPerMinDeltas': {u'zeroToTen': -64.5, u'tenToTwenty': -259.6}, u'creepsPerMinDeltas': {u'zeroToTen': 6.4, u'tenToTwenty': 3.9}, u'xpPerMinDeltas': {u'zeroToTen': 371.70000000000005, u'tenToTwenty': 326.8}, u'role': u'SOLO', u'damageTakenDiffPerMinDeltas': {u'zeroToTen': 241.9, u'tenToTwenty': -170.2}, u'damageTakenPerMinDeltas': {u'zeroToTen': 660.1, u'tenToTwenty': 650.7}}, u'spell1Id': 12}, {u'stats': {u'item1': 3027, u'totalPlayerScore': 0, u'unrealKills': 0, u'objectivePlayerScore': 0, u'largestCriticalStrike': 0, u'totalDamageDealt': 83398, u'magicDamageDealtToChampions': 5983, u'largestMultiKill': 1, u'largestKillingSpree': 0, u'quadraKills': 0, u'magicDamageTaken': 4020, u'towerKills': 0, u'totalTimeCrowdControlDealt': 96, u'neutralMinionsKilledEnemyJungle': 2, u'firstTowerAssist': False, u'neutralMinionsKilledTeamJungle': 8, u'wardsKilled': 1, u'physicalDamageDealt': 9365, u'item2': 1058, u'item3': 1027, u'item0': 2010, u'winner': False, u'item6': 3363, u'wardsPlaced': 12, u'item4': 1056, u'item5': 3158, u'minionsKilled': 110, u'tripleKills': 0, u'champLevel': 12, u'magicDamageDealt': 74032, u'kills': 1, u'doubleKills': 0, u'firstInhibitorKill': False, u'trueDamageTaken': 416, u'firstBloodAssist': False, u'firstBloodKill': False, u'assists': 1, u'deaths': 2, u'neutralMinionsKilled': 10, u'combatPlayerScore': 0, u'visionWardsBoughtInGame': 1, u'physicalDamageDealtToChampions': 342, u'goldSpent': 6425, u'trueDamageDealt': 0, u'trueDamageDealtToChampions': 0, u'pentaKills': 0, u'firstInhibitorAssist': False, u'firstTowerKill': False, u'totalHeal': 472, u'goldEarned': 6739, u'sightWardsBoughtInGame': 0, u'totalDamageDealtToChampions': 6326, u'totalUnitsHealed': 1, u'inhibitorKills': 0, u'totalScoreRank': 0, u'totalDamageTaken': 9442, u'killingSprees': 0, u'physicalDamageTaken': 5005}, u'championId': 4, u'participantId': 10, u'runes': [{u'runeId': 5273, u'rank': 9}, {u'runeId': 5296, u'rank': 9}, {u'runeId': 5316, u'rank': 9}, {u'runeId': 5357, u'rank': 3}], u'highestAchievedSeasonTier': u'DIAMOND', u'masteries': [{u'masteryId': 6211, u'rank': 5}, {u'masteryId': 6221, u'rank': 1}, {u'masteryId': 6232, u'rank': 5}, {u'masteryId': 6241, u'rank': 1}, {u'masteryId': 6312, u'rank': 5}, {u'masteryId': 6322, u'rank': 1}, {u'masteryId': 6332, u'rank': 5}, {u'masteryId': 6343, u'rank': 1}, {u'masteryId': 6351, u'rank': 5}, {u'masteryId': 6362, u'rank': 1}], u'spell2Id': 4, u'teamId': 200, u'timeline': {u'lane': u'MIDDLE', u'csDiffPerMinDeltas': {u'zeroToTen': -1.6999999999999997, u'tenToTwenty': -1.1999999999999997}, u'goldPerMinDeltas': {u'zeroToTen': 291.3, u'tenToTwenty': 288.4}, u'xpDiffPerMinDeltas': {u'zeroToTen': -5.199999999999989, u'tenToTwenty': 28.89999999999999}, u'creepsPerMinDeltas': {u'zeroToTen': 6.0, u'tenToTwenty': 4.6}, u'xpPerMinDeltas': {u'zeroToTen': 439.0, u'tenToTwenty': 374.4}, u'role': u'SOLO', u'damageTakenDiffPerMinDeltas': {u'zeroToTen': 131.7, u'tenToTwenty': 160.99999999999997}, u'damageTakenPerMinDeltas': {u'zeroToTen': 361.09999999999997, u'tenToTwenty': 472.9}}, u'spell1Id': 12}], u'matchMode': u'CLASSIC', u'matchDuration': 1298, u'participantIdentities': [{u'player': {u'profileIcon': 508, u'summonerId': 23288874, u'matchHistoryUri': u'/v1/stats/player_history/NA/37336200', u'summonerName': u'South Korea'}, u'participantId': 1}, {u'player': {u'profileIcon': 964, u'summonerId': 22681647, u'matchHistoryUri': u'/v1/stats/player_history/NA/36507350', u'summonerName': u'Jason Shen'}, u'participantId': 2}, {u'player': {u'profileIcon': 944, u'summonerId': 42782346, u'matchHistoryUri': u'/v1/stats/player_history/NA1/205215716', u'summonerName': u'Juniorboogie'}, u'participantId': 3}, {u'player': {u'profileIcon': 545, u'summonerId': 24188054, u'matchHistoryUri': u'/v1/stats/player_history/NA/38458187', u'summonerName': u'BarbequeQ'}, u'participantId': 4}, {u'player': {u'profileIcon': 547, u'summonerId': 28941311, u'matchHistoryUri': u'/v1/stats/player_history/NA1/43120117', u'summonerName': u'PfohoBear'}, u'participantId': 5}, {u'player': {u'profileIcon': 964, u'summonerId': 30263247, u'matchHistoryUri': u'/v1/stats/player_history/NA1/44433361', u'summonerName': u'Clarizio'}, u'participantId': 6}, {u'player': {u'profileIcon': 964, u'summonerId': 31101878, u'matchHistoryUri': u'/v1/stats/player_history/NA1/45434335', u'summonerName': u'BRlCKA BRlCKA'}, u'participantId': 7}, {u'player': {u'profileIcon': 4, u'summonerId': 22143513, u'matchHistoryUri': u'/v1/stats/player_history/NA/35794293', u'summonerName': u'StRumpterfrabble'}, u'participantId': 8}, {u'player': {u'profileIcon': 785, u'summonerId': 19140232, u'matchHistoryUri': u'/v1/stats/player_history/NA/31834711', u'summonerName': u'sensei cat'}, u'participantId': 9}, {u'player': {u'profileIcon': 504, u'summonerId': 26471762, u'matchHistoryUri': u'/v1/stats/player_history/NA/41204643', u'summonerName': u'iwq'}, u'participantId': 10}], u'matchType': u'MATCHED_GAME'}\n"
     ]
    }
   ],
   "source": [
    "test_response = get_match('na', 2026610783, False).json()\n",
    "# let's take a look at what it looks like\n",
    "print test_response"
   ]
  },
  {
   "cell_type": "markdown",
   "metadata": {},
   "source": [
    "Oh, boy. That's a big jumble of text! \n",
    "\n",
    "Before we start making csv files of nicely organized data of the JSON files, we make a function that converts a championID to champion name. Our raw data denotes each champion by its championID, which is just a random number."
   ]
  },
  {
   "cell_type": "code",
   "execution_count": 7,
   "metadata": {
    "collapsed": false
   },
   "outputs": [],
   "source": [
    "########## Champion ID to Champion Name converter ##########\n",
    "\n",
    "# GET the static data on champion keys and names\n",
    "static_champ_data = requests.get(\"https://global.api.pvp.net/api/lol/static-data/na/v1.2/champion?locale=en_US&api_key=%s\"%KEY).json() \n",
    "champs = static_champ_data['data']\n",
    "champ_names = static_champ_data['data'].keys()\n",
    "\n",
    "# initializing index and empty dictionaries\n",
    "i = 0\n",
    "list_champs = []\n",
    "list_champ_ids = []\n",
    "\n",
    "# filling in the lists\n",
    "for i in range(len(champ_names)):\n",
    "    this_champ = champs[champ_names[i]]\n",
    "    list_champs.append(this_champ['key'])\n",
    "    list_champ_ids.append(this_champ['id'])\n",
    "    \n",
    "# champion ID and name dictionary    \n",
    "champ_dict = dict(zip(list_champ_ids, list_champs))\n",
    "\n",
    "# Wukong's name is not correct (MonkeyKing)\n",
    "champ_dict[62] = 'Wukong'\n",
    "\n",
    "# function that converts a champion ID to champion name\n",
    "def champion_name(champion_id):\n",
    "    if champion_id in champ_dict:\n",
    "        return champ_dict[champion_id]\n",
    "    else:\n",
    "        return 'no_name'"
   ]
  },
  {
   "cell_type": "code",
   "execution_count": 43,
   "metadata": {
    "collapsed": false
   },
   "outputs": [
    {
     "name": "stdout",
     "output_type": "stream",
     "text": [
      "Galio\n",
      "LeeSin\n"
     ]
    }
   ],
   "source": [
    "# Let's checkout what champions 3 and 64 are\n",
    "print champion_name(3)\n",
    "print champion_name(64)"
   ]
  },
  {
   "cell_type": "markdown",
   "metadata": {},
   "source": [
    "Now that we have a bunch of JSON files. Let's put them into usable form. We will merge all the necessary data from the JSON files to a giant csv file for easy access. Each game has 10 players (thus champions) and thus will have 10 rows of data. Each game and its participants are identifiable by the match ID. \n",
    "\n",
    "This part takes a few minutes to run depending on how much data we have on hand."
   ]
  },
  {
   "cell_type": "code",
   "execution_count": 19,
   "metadata": {
    "collapsed": true
   },
   "outputs": [],
   "source": [
    "# Helper functions to parse data into a csv file\n",
    "def insertComma(fileName):\n",
    "    fileName.write(' , ')\n",
    "\n",
    "def writetoFile(fileName,data):\n",
    "    fileName.write(str(data))\n",
    "    insertComma(fileName)"
   ]
  },
  {
   "cell_type": "markdown",
   "metadata": {},
   "source": [
    "#### Feature Selection\n",
    "The retrieved data gives us A LOT of statistics and metrics regarding the player and what happened in that game. However, we only want to work with the most important, dividing features that will facilitate the clustering process as well as CURSE OF DIMENSIONALITY.\n",
    "\n",
    "The following list are the features we decided to keep and the reasoning behind each of them.\n",
    "\n",
    "##### General Info for Labeling and Group-by Operations (not used for clustering later)\n",
    "match_ID  \n",
    "participant  \n",
    "champ  \n",
    "\n",
    "##### Relevant In-game Stats\n",
    "win  \n",
    "kills  \n",
    "assists  \n",
    "deaths  \n",
    "gold_earned  \n",
    "p_damage_to_champs  \n",
    "m_damage_to_champs  \n",
    "max_multi_kill  \n",
    "max_crit  \n",
    "damage_taken  \n",
    "no_killing_spree  \n",
    "creep_score  \n",
    "jungle_killed  \n",
    "cc_dealt  \n",
    "wards_placed  \n",
    "total_heal  "
   ]
  },
  {
   "cell_type": "markdown",
   "metadata": {},
   "source": [
    "write about this here"
   ]
  },
  {
   "cell_type": "code",
   "execution_count": 46,
   "metadata": {
    "collapsed": false
   },
   "outputs": [
    {
     "name": "stdout",
     "output_type": "stream",
     "text": [
      "parsed 1000 files...\n",
      "parsed 2000 files...\n",
      "parsed 3000 files...\n",
      "parsed 4000 files...\n",
      "parsed 5000 files...\n",
      "parsed 6000 files...\n"
     ]
    }
   ],
   "source": [
    "# We modified the code from https://github.com/LionTurtle/TeamCompML/\n",
    "\n",
    "# directory with all the JSON files\n",
    "DUMP_DIR = 'dump_global/'\n",
    "counter = 0\n",
    "# the csv file where we are saving everything\n",
    "unnormalized_data = open('unnormalized.csv','w+')\n",
    "# column names (the features above)\n",
    "unnormalized_data.write('region, match_ID, participant, rank, champ, win, kills, assists, deaths, gold_earned, p_damage_to_champs, m_damage_to_champs, max_multi_kill, max_crit, damage_taken, no_killing_spree, creep_score, jungle_killed, cc_dealt, wards_placed, total_heal\\n')        \n",
    "\n",
    "for f in os.listdir(DUMP_DIR):\n",
    "    counter += 1\n",
    "    if (counter % 1000) == 0:\n",
    "        print \"parsed %d files...\" % counter\n",
    "    \n",
    "    if f.find('json') != -1:\n",
    "        json_data = open(DUMP_DIR + f)\n",
    "        data = json.load(json_data)\n",
    "        json_data.close()\n",
    "\n",
    "        if len(data['participants']) == 10:  #verify valid game with all players\n",
    "            counter += 1\n",
    "\n",
    "            for i in range(0,10):\n",
    "                teamID = 0 if data['participants'][i]['teamId'] == data['teams'][0]['teamId'] else 1\n",
    "                stats = data['participants'][i]['stats']\n",
    "\n",
    "                # General Info -- not used for clustering\n",
    "                writetoFile(unnormalized_data, data['region'])\n",
    "                writetoFile(unnormalized_data, data['matchId'])\n",
    "                writetoFile(unnormalized_data, data['participantIdentities'][i]['participantId'])\n",
    "                writetoFile(unnormalized_data, data['participants'][i]['highestAchievedSeasonTier'])\n",
    "                writetoFile(unnormalized_data, champ_dict[data['participants'][i]['championId']])\n",
    "                \n",
    "                # indicator for winner\n",
    "                writetoFile(unnormalized_data, int(data['teams'][teamID]['winner']))\n",
    "                \n",
    "                # KDA\n",
    "                writetoFile(unnormalized_data, stats['kills'])\n",
    "                writetoFile(unnormalized_data, stats['assists'])\n",
    "                writetoFile(unnormalized_data, stats['deaths'])\n",
    "                \n",
    "                writetoFile(unnormalized_data, stats['goldEarned'])\n",
    "                writetoFile(unnormalized_data, stats['physicalDamageDealtToChampions'])\n",
    "                writetoFile(unnormalized_data, stats['magicDamageDealtToChampions'])\n",
    "                writetoFile(unnormalized_data, stats['largestMultiKill'])\n",
    "                writetoFile(unnormalized_data, stats['largestCriticalStrike'])\n",
    "                \n",
    "                writetoFile(unnormalized_data, stats['totalDamageTaken'])\n",
    "                writetoFile(unnormalized_data, stats['killingSprees'])\n",
    "                \n",
    "                writetoFile(unnormalized_data, stats['minionsKilled'])\n",
    "                writetoFile(unnormalized_data, stats['neutralMinionsKilled'])\n",
    "                writetoFile(unnormalized_data, stats['totalTimeCrowdControlDealt'])\n",
    "                \n",
    "                writetoFile(unnormalized_data, stats['wardsPlaced'])\n",
    "                writetoFile(unnormalized_data, stats['totalHeal'])\n",
    "\n",
    "                unnormalized_data.write('\\n')"
   ]
  }
 ],
 "metadata": {
  "kernelspec": {
   "display_name": "Python 2",
   "language": "python",
   "name": "python2"
  },
  "language_info": {
   "codemirror_mode": {
    "name": "ipython",
    "version": 2
   },
   "file_extension": ".py",
   "mimetype": "text/x-python",
   "name": "python",
   "nbconvert_exporter": "python",
   "pygments_lexer": "ipython2",
   "version": "2.7.10"
  }
 },
 "nbformat": 4,
 "nbformat_minor": 0
}
