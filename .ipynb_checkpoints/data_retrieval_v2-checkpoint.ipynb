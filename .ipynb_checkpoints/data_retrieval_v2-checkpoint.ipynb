{
 "cells": [
  {
   "cell_type": "code",
   "execution_count": 1,
   "metadata": {
    "collapsed": false
   },
   "outputs": [],
   "source": [
    "########## SET-UP ##########\n",
    "\n",
    "# necessary libraries\n",
    "import os\n",
    "import json\n",
    "import requests\n",
    "import time\n",
    "import datetime\n",
    "\n",
    "# INSERT YOUR API KEY HERE! DO NOT USE MINE! (Sean)\n",
    "KEY = 'b00c992b-6fc1-4795-abcc-7db85c1b72fa'\n"
   ]
  },
  {
   "cell_type": "code",
   "execution_count": 2,
   "metadata": {
    "collapsed": true
   },
   "outputs": [],
   "source": [
    "# MATCH-v2.2\n",
    "REGION_ENDPOINT = \"https://{0}.api.pvp.net/api/lol/{0}/\"\n",
    "\n",
    "# FUNCTION TO PULL MATCH DATA\n",
    "def get_match(REGION, matchId, includeTimeline):\n",
    "    \"\"\"\n",
    "    Retrieve match by match ID.\n",
    "    \"\"\"\n",
    "    return requests.get(\n",
    "        (REGION_ENDPOINT + \"v2.2/match/{1}?\"\n",
    "         \"api_key={2}&includeTimeline={3}\").\n",
    "        format(REGION, matchId, KEY, includeTimeline))"
   ]
  },
  {
   "cell_type": "code",
   "execution_count": 4,
   "metadata": {
    "collapsed": false
   },
   "outputs": [],
   "source": [
    "# Constants\n",
    "STATUS_OK = 200\n",
    "STATUS_RATE_LIMIT_EXCEEDED = 429\n",
    "valid_rank_games = ['RANKED_SOLO_5x5',     # Ranked Solo 5v5 games\n",
    "                    'RANKED_PREMADE_5x5',  # Ranked Premade 5v5 games\n",
    "                    'RANKED_TEAM_5x5']     # Ranked Team 5v5 games\n",
    "\n",
    "REGION_list = ['na', 'kr', 'eune', 'euw', 'lan', 'las', 'oce', 'ru', 'br', 'tr']\n",
    "\n",
    "# Sean\n",
    "#regional_match_id = {'na': 2028998508, \n",
    "#                     'kr': 2193799029,   #캬하하\n",
    "#                     'br': 647354574,    #brTT\n",
    "#                     'eune': 1297787579, #PaiNkiller Gr3k\n",
    "#                     'euw': 2418259276,  #Arceo\n",
    "#                     'lan': 197101244,   #Malvado\n",
    "#                     'las': 272915603,   #Tea\n",
    "#                     'oce': 113859146,   #Talk Sleek\n",
    "#                     'ru': 84480380,     #bronyaw\n",
    "#                     'tr': 325233355}    #kua\n",
    "\n",
    "# COMMENT OUT regional_match_id THAT IS NOT UNDER YOUR NAME!!!!!!!!!!!!!!!!!!\n",
    "# DO NOT RUN THIS PART OF THE CODE AFTER YOU'VE STARTED THE LOOP BELOW. IT'LL OVERWRITE EXISTING DATA!!!\n",
    "\n",
    "# jaemin\n",
    "regional_match_id = {'na': 2029960687,\n",
    "                     'kr': 2192916925,\n",
    "                     'br': 664106032,\n",
    "                     'eune': 1293871277,\n",
    "                     'euw': 2417718483,\n",
    "                     'lan': 229932736,\n",
    "                     'las': 271679926,\n",
    "                     'oce': 113897495,\n",
    "                     'ru': 83927963,\n",
    "                     'tr': 332060998}\n",
    "                     \n",
    "# kenny\n",
    "#regional_match_id = {'na': 2029894256\n",
    "#                     'kr': 2181887785\n",
    "#                     'br': 664332857\n",
    "#                     'eune': 1293801833\n",
    "#                     'euw': 2417655730\n",
    "#                     'lan': 229928986\n",
    "#                     'las': 272582143\n",
    "#                     'oce': 113887342\n",
    "#                     'ru': 83706280\n",
    "#                     'tr': 332046148}\n",
    "\n",
    "# andrew\n",
    "#regional_match_id = {'na': 2029848145\n",
    "#                     'kr': 2181825342\n",
    "#                     'br': 664520626\n",
    "#                     'eune': 1293842842\n",
    "#                     'euw': 2417484267\n",
    "#                     'lan': 229859020\n",
    "#                     'las': 272319645\n",
    "#                     'oce': 113877802\n",
    "#                     'ru': 84139484\n",
    "#                     'tr': 331322838}"
   ]
  },
  {
   "cell_type": "code",
   "execution_count": 5,
   "metadata": {
    "collapsed": true
   },
   "outputs": [],
   "source": [
    "# Functions that check status of the data pulls\n",
    "def isValid(match):\n",
    "    if match.status_code != STATUS_OK:\n",
    "        return False\n",
    "    return True\n",
    "\n",
    "def isClassicMatch(match):\n",
    "    j = match.json()\n",
    "    if j['mapId'] == 11 and j['matchMode'] == \"CLASSIC\" and j['matchType'] == 'MATCHED_GAME':\n",
    "        return True\n",
    "    else:\n",
    "        return False\n",
    "\n",
    "def isRankMatch(match):\n",
    "    j = match.json()\n",
    "    if j['queueType'] in valid_rank_games:\n",
    "        return True\n",
    "    else:\n",
    "        return False\n",
    "                    \n",
    "def rateLimitExceeded(match):\n",
    "    if int(match.status_code) == STATUS_RATE_LIMIT_EXCEEDED:\n",
    "        return True\n",
    "    return False"
   ]
  },
  {
   "cell_type": "code",
   "execution_count": 6,
   "metadata": {
    "collapsed": false
   },
   "outputs": [
    {
     "name": "stdout",
     "output_type": "stream",
     "text": [
      "n: 1, ts: 17:34:55, ID: 2029960687, date: 12-06, season: PRESEASON2016, tier: MASTER, loop_index: 0, region: NA\n",
      "n: 2, ts: 17:34:56, ID: 2029960688, date: 12-06, season: PRESEASON2016, tier: SILVER, loop_index: 1, region: NA\n",
      "rate limit reached at na, moving onto kr\n",
      "n: 3, ts: 17:34:58, ID: 2192916925, date: 12-06, season: PRESEASON2016, tier: CHALLENGER, loop_index: 5, region: KR\n",
      "n: 4, ts: 17:35:02, ID: 2192916926, date: 12-06, season: PRESEASON2016, tier: PLATINUM, loop_index: 6, region: KR\n"
     ]
    },
    {
     "ename": "KeyboardInterrupt",
     "evalue": "",
     "output_type": "error",
     "traceback": [
      "\u001b[0;31m---------------------------------------------------------------------------\u001b[0m",
      "\u001b[0;31mKeyboardInterrupt\u001b[0m                         Traceback (most recent call last)",
      "\u001b[0;32m<ipython-input-6-861d40254426>\u001b[0m in \u001b[0;36m<module>\u001b[0;34m()\u001b[0m\n\u001b[1;32m     10\u001b[0m     \u001b[0mi\u001b[0m \u001b[0;34m+=\u001b[0m \u001b[0;36m1\u001b[0m\u001b[0;34m\u001b[0m\u001b[0m\n\u001b[1;32m     11\u001b[0m \u001b[0;34m\u001b[0m\u001b[0m\n\u001b[0;32m---> 12\u001b[0;31m     \u001b[0mm\u001b[0m \u001b[0;34m=\u001b[0m \u001b[0mget_match\u001b[0m\u001b[0;34m(\u001b[0m\u001b[0mcurr_region\u001b[0m\u001b[0;34m,\u001b[0m \u001b[0mcurrent_match_id\u001b[0m\u001b[0;34m,\u001b[0m \u001b[0mFalse\u001b[0m\u001b[0;34m)\u001b[0m\u001b[0;34m\u001b[0m\u001b[0m\n\u001b[0m\u001b[1;32m     13\u001b[0m \u001b[0;34m\u001b[0m\u001b[0m\n\u001b[1;32m     14\u001b[0m     \u001b[0;32mif\u001b[0m \u001b[0;32mnot\u001b[0m \u001b[0mrateLimitExceeded\u001b[0m\u001b[0;34m(\u001b[0m\u001b[0mm\u001b[0m\u001b[0;34m)\u001b[0m\u001b[0;34m:\u001b[0m\u001b[0;34m\u001b[0m\u001b[0m\n",
      "\u001b[0;32m<ipython-input-2-465c56aae830>\u001b[0m in \u001b[0;36mget_match\u001b[0;34m(REGION, matchId, includeTimeline)\u001b[0m\n\u001b[1;32m     10\u001b[0m         (REGION_ENDPOINT + \"v2.2/match/{1}?\"\n\u001b[1;32m     11\u001b[0m          \"api_key={2}&includeTimeline={3}\").\n\u001b[0;32m---> 12\u001b[0;31m         format(REGION, matchId, KEY, includeTimeline))\n\u001b[0m",
      "\u001b[0;32m/Users/seungjaecha/anaconda/lib/python2.7/site-packages/requests/api.pyc\u001b[0m in \u001b[0;36mget\u001b[0;34m(url, params, **kwargs)\u001b[0m\n\u001b[1;32m     67\u001b[0m \u001b[0;34m\u001b[0m\u001b[0m\n\u001b[1;32m     68\u001b[0m     \u001b[0mkwargs\u001b[0m\u001b[0;34m.\u001b[0m\u001b[0msetdefault\u001b[0m\u001b[0;34m(\u001b[0m\u001b[0;34m'allow_redirects'\u001b[0m\u001b[0;34m,\u001b[0m \u001b[0mTrue\u001b[0m\u001b[0;34m)\u001b[0m\u001b[0;34m\u001b[0m\u001b[0m\n\u001b[0;32m---> 69\u001b[0;31m     \u001b[0;32mreturn\u001b[0m \u001b[0mrequest\u001b[0m\u001b[0;34m(\u001b[0m\u001b[0;34m'get'\u001b[0m\u001b[0;34m,\u001b[0m \u001b[0murl\u001b[0m\u001b[0;34m,\u001b[0m \u001b[0mparams\u001b[0m\u001b[0;34m=\u001b[0m\u001b[0mparams\u001b[0m\u001b[0;34m,\u001b[0m \u001b[0;34m**\u001b[0m\u001b[0mkwargs\u001b[0m\u001b[0;34m)\u001b[0m\u001b[0;34m\u001b[0m\u001b[0m\n\u001b[0m\u001b[1;32m     70\u001b[0m \u001b[0;34m\u001b[0m\u001b[0m\n\u001b[1;32m     71\u001b[0m \u001b[0;34m\u001b[0m\u001b[0m\n",
      "\u001b[0;32m/Users/seungjaecha/anaconda/lib/python2.7/site-packages/requests/api.pyc\u001b[0m in \u001b[0;36mrequest\u001b[0;34m(method, url, **kwargs)\u001b[0m\n\u001b[1;32m     48\u001b[0m \u001b[0;34m\u001b[0m\u001b[0m\n\u001b[1;32m     49\u001b[0m     \u001b[0msession\u001b[0m \u001b[0;34m=\u001b[0m \u001b[0msessions\u001b[0m\u001b[0;34m.\u001b[0m\u001b[0mSession\u001b[0m\u001b[0;34m(\u001b[0m\u001b[0;34m)\u001b[0m\u001b[0;34m\u001b[0m\u001b[0m\n\u001b[0;32m---> 50\u001b[0;31m     \u001b[0mresponse\u001b[0m \u001b[0;34m=\u001b[0m \u001b[0msession\u001b[0m\u001b[0;34m.\u001b[0m\u001b[0mrequest\u001b[0m\u001b[0;34m(\u001b[0m\u001b[0mmethod\u001b[0m\u001b[0;34m=\u001b[0m\u001b[0mmethod\u001b[0m\u001b[0;34m,\u001b[0m \u001b[0murl\u001b[0m\u001b[0;34m=\u001b[0m\u001b[0murl\u001b[0m\u001b[0;34m,\u001b[0m \u001b[0;34m**\u001b[0m\u001b[0mkwargs\u001b[0m\u001b[0;34m)\u001b[0m\u001b[0;34m\u001b[0m\u001b[0m\n\u001b[0m\u001b[1;32m     51\u001b[0m     \u001b[0;31m# By explicitly closing the session, we avoid leaving sockets open which\u001b[0m\u001b[0;34m\u001b[0m\u001b[0;34m\u001b[0m\u001b[0m\n\u001b[1;32m     52\u001b[0m     \u001b[0;31m# can trigger a ResourceWarning in some cases, and look like a memory leak\u001b[0m\u001b[0;34m\u001b[0m\u001b[0;34m\u001b[0m\u001b[0m\n",
      "\u001b[0;32m/Users/seungjaecha/anaconda/lib/python2.7/site-packages/requests/sessions.pyc\u001b[0m in \u001b[0;36mrequest\u001b[0;34m(self, method, url, params, data, headers, cookies, files, auth, timeout, allow_redirects, proxies, hooks, stream, verify, cert, json)\u001b[0m\n\u001b[1;32m    466\u001b[0m         }\n\u001b[1;32m    467\u001b[0m         \u001b[0msend_kwargs\u001b[0m\u001b[0;34m.\u001b[0m\u001b[0mupdate\u001b[0m\u001b[0;34m(\u001b[0m\u001b[0msettings\u001b[0m\u001b[0;34m)\u001b[0m\u001b[0;34m\u001b[0m\u001b[0m\n\u001b[0;32m--> 468\u001b[0;31m         \u001b[0mresp\u001b[0m \u001b[0;34m=\u001b[0m \u001b[0mself\u001b[0m\u001b[0;34m.\u001b[0m\u001b[0msend\u001b[0m\u001b[0;34m(\u001b[0m\u001b[0mprep\u001b[0m\u001b[0;34m,\u001b[0m \u001b[0;34m**\u001b[0m\u001b[0msend_kwargs\u001b[0m\u001b[0;34m)\u001b[0m\u001b[0;34m\u001b[0m\u001b[0m\n\u001b[0m\u001b[1;32m    469\u001b[0m \u001b[0;34m\u001b[0m\u001b[0m\n\u001b[1;32m    470\u001b[0m         \u001b[0;32mreturn\u001b[0m \u001b[0mresp\u001b[0m\u001b[0;34m\u001b[0m\u001b[0m\n",
      "\u001b[0;32m/Users/seungjaecha/anaconda/lib/python2.7/site-packages/requests/sessions.pyc\u001b[0m in \u001b[0;36msend\u001b[0;34m(self, request, **kwargs)\u001b[0m\n\u001b[1;32m    574\u001b[0m \u001b[0;34m\u001b[0m\u001b[0m\n\u001b[1;32m    575\u001b[0m         \u001b[0;31m# Send the request\u001b[0m\u001b[0;34m\u001b[0m\u001b[0;34m\u001b[0m\u001b[0m\n\u001b[0;32m--> 576\u001b[0;31m         \u001b[0mr\u001b[0m \u001b[0;34m=\u001b[0m \u001b[0madapter\u001b[0m\u001b[0;34m.\u001b[0m\u001b[0msend\u001b[0m\u001b[0;34m(\u001b[0m\u001b[0mrequest\u001b[0m\u001b[0;34m,\u001b[0m \u001b[0;34m**\u001b[0m\u001b[0mkwargs\u001b[0m\u001b[0;34m)\u001b[0m\u001b[0;34m\u001b[0m\u001b[0m\n\u001b[0m\u001b[1;32m    577\u001b[0m \u001b[0;34m\u001b[0m\u001b[0m\n\u001b[1;32m    578\u001b[0m         \u001b[0;31m# Total elapsed time of the request (approximately)\u001b[0m\u001b[0;34m\u001b[0m\u001b[0;34m\u001b[0m\u001b[0m\n",
      "\u001b[0;32m/Users/seungjaecha/anaconda/lib/python2.7/site-packages/requests/adapters.pyc\u001b[0m in \u001b[0;36msend\u001b[0;34m(self, request, stream, timeout, verify, cert, proxies)\u001b[0m\n\u001b[1;32m    437\u001b[0m                 \u001b[0;32mraise\u001b[0m\u001b[0;34m\u001b[0m\u001b[0m\n\u001b[1;32m    438\u001b[0m \u001b[0;34m\u001b[0m\u001b[0m\n\u001b[0;32m--> 439\u001b[0;31m         \u001b[0;32mreturn\u001b[0m \u001b[0mself\u001b[0m\u001b[0;34m.\u001b[0m\u001b[0mbuild_response\u001b[0m\u001b[0;34m(\u001b[0m\u001b[0mrequest\u001b[0m\u001b[0;34m,\u001b[0m \u001b[0mresp\u001b[0m\u001b[0;34m)\u001b[0m\u001b[0;34m\u001b[0m\u001b[0m\n\u001b[0m",
      "\u001b[0;32m/Users/seungjaecha/anaconda/lib/python2.7/site-packages/requests/adapters.pyc\u001b[0m in \u001b[0;36mbuild_response\u001b[0;34m(self, req, resp)\u001b[0m\n\u001b[1;32m    216\u001b[0m \u001b[0;34m\u001b[0m\u001b[0m\n\u001b[1;32m    217\u001b[0m         \u001b[0;31m# Set encoding.\u001b[0m\u001b[0;34m\u001b[0m\u001b[0;34m\u001b[0m\u001b[0m\n\u001b[0;32m--> 218\u001b[0;31m         \u001b[0mresponse\u001b[0m\u001b[0;34m.\u001b[0m\u001b[0mencoding\u001b[0m \u001b[0;34m=\u001b[0m \u001b[0mget_encoding_from_headers\u001b[0m\u001b[0;34m(\u001b[0m\u001b[0mresponse\u001b[0m\u001b[0;34m.\u001b[0m\u001b[0mheaders\u001b[0m\u001b[0;34m)\u001b[0m\u001b[0;34m\u001b[0m\u001b[0m\n\u001b[0m\u001b[1;32m    219\u001b[0m         \u001b[0mresponse\u001b[0m\u001b[0;34m.\u001b[0m\u001b[0mraw\u001b[0m \u001b[0;34m=\u001b[0m \u001b[0mresp\u001b[0m\u001b[0;34m\u001b[0m\u001b[0m\n\u001b[1;32m    220\u001b[0m         \u001b[0mresponse\u001b[0m\u001b[0;34m.\u001b[0m\u001b[0mreason\u001b[0m \u001b[0;34m=\u001b[0m \u001b[0mresponse\u001b[0m\u001b[0;34m.\u001b[0m\u001b[0mraw\u001b[0m\u001b[0;34m.\u001b[0m\u001b[0mreason\u001b[0m\u001b[0;34m\u001b[0m\u001b[0m\n",
      "\u001b[0;32m/Users/seungjaecha/anaconda/lib/python2.7/site-packages/requests/utils.pyc\u001b[0m in \u001b[0;36mget_encoding_from_headers\u001b[0;34m(headers)\u001b[0m\n\u001b[1;32m    318\u001b[0m         \u001b[0;32mreturn\u001b[0m \u001b[0mNone\u001b[0m\u001b[0;34m\u001b[0m\u001b[0m\n\u001b[1;32m    319\u001b[0m \u001b[0;34m\u001b[0m\u001b[0m\n\u001b[0;32m--> 320\u001b[0;31m     \u001b[0mcontent_type\u001b[0m\u001b[0;34m,\u001b[0m \u001b[0mparams\u001b[0m \u001b[0;34m=\u001b[0m \u001b[0mcgi\u001b[0m\u001b[0;34m.\u001b[0m\u001b[0mparse_header\u001b[0m\u001b[0;34m(\u001b[0m\u001b[0mcontent_type\u001b[0m\u001b[0;34m)\u001b[0m\u001b[0;34m\u001b[0m\u001b[0m\n\u001b[0m\u001b[1;32m    321\u001b[0m \u001b[0;34m\u001b[0m\u001b[0m\n\u001b[1;32m    322\u001b[0m     \u001b[0;32mif\u001b[0m \u001b[0;34m'charset'\u001b[0m \u001b[0;32min\u001b[0m \u001b[0mparams\u001b[0m\u001b[0;34m:\u001b[0m\u001b[0;34m\u001b[0m\u001b[0m\n",
      "\u001b[0;32m/Users/seungjaecha/anaconda/lib/python2.7/cgi.pyc\u001b[0m in \u001b[0;36mparse_header\u001b[0;34m(line)\u001b[0m\n\u001b[1;32m    307\u001b[0m \u001b[0;34m\u001b[0m\u001b[0m\n\u001b[1;32m    308\u001b[0m     \"\"\"\n\u001b[0;32m--> 309\u001b[0;31m     \u001b[0mparts\u001b[0m \u001b[0;34m=\u001b[0m \u001b[0m_parseparam\u001b[0m\u001b[0;34m(\u001b[0m\u001b[0;34m';'\u001b[0m \u001b[0;34m+\u001b[0m \u001b[0mline\u001b[0m\u001b[0;34m)\u001b[0m\u001b[0;34m\u001b[0m\u001b[0m\n\u001b[0m\u001b[1;32m    310\u001b[0m     \u001b[0mkey\u001b[0m \u001b[0;34m=\u001b[0m \u001b[0mparts\u001b[0m\u001b[0;34m.\u001b[0m\u001b[0mnext\u001b[0m\u001b[0;34m(\u001b[0m\u001b[0;34m)\u001b[0m\u001b[0;34m\u001b[0m\u001b[0m\n\u001b[1;32m    311\u001b[0m     \u001b[0mpdict\u001b[0m \u001b[0;34m=\u001b[0m \u001b[0;34m{\u001b[0m\u001b[0;34m}\u001b[0m\u001b[0;34m\u001b[0m\u001b[0m\n",
      "\u001b[0;31mKeyboardInterrupt\u001b[0m: "
     ]
    }
   ],
   "source": [
    "# initializing indices\n",
    "i, n, r = (0, 0, 0) # i = incrementing starting match ID, n = number of games retrieved, r = region list index)\n",
    "\n",
    "\n",
    "# feel free to stop/run this loop anytime (it remembers the last starting point.. but it doesn't hurt to double check)\n",
    "for k in range(100000):\n",
    "    # current region\n",
    "    curr_region = REGION_list[r]\n",
    "    current_match_id = regional_match_id[curr_region] + i\n",
    "    i += 1\n",
    "    \n",
    "    m = get_match(curr_region, current_match_id, False)\n",
    "    \n",
    "    if not rateLimitExceeded(m):\n",
    "        if isValid(m) and isClassicMatch(m) and isRankMatch(m):\n",
    "\n",
    "            ############ COMMENT AND UNCOMMENT THE RIGHT PARTS RIGHT BELOW!!!!!!!!! ########          \n",
    "            f = open(\"dump_global/\" + str(current_match_id)+\".json\", 'w+')\n",
    "            # if your name is Jaemin, use this part\n",
    "            #f = open(\"dump_jaemin_global/\" + str(current_match_id)+\".json\", 'w+')\n",
    "            # if your name is Kenny, use this part\n",
    "            #f = open(\"dump_kenny_global/\" + str(current_match_id)+\".json\", 'w+')\n",
    "            # if your name is Andrew, use this part\n",
    "            #f = open(\"dump_andrew_global/\" + str(current_match_id)+\".json\", 'w+')\n",
    "            f.write(m.text.encode('utf-8'))\n",
    "            n += 1\n",
    "            print 'n: %d, ts: %s, ID: %d, date: %s, season: %s, tier: %s, loop_index: %d, region: %s' % (n, datetime.datetime.fromtimestamp(time.time()).strftime('%H:%M:%S'), \n",
    "                                                                                                 current_match_id, \n",
    "                                                                                                 ('%s' % (time.strftime('%m-%d', time.localtime(m.json()['matchCreation']/1000)))),\n",
    "                                                                                                 m.json()['season'], m.json()['participants'][1]['highestAchievedSeasonTier'], k,\n",
    "                                                                                                            m.json()['region'])\n",
    "            f.close()\n",
    "    else:\n",
    "        regional_match_id[curr_region] =  current_match_id + i\n",
    "        if (r == 9):\n",
    "            print (\"rate limit reached at %s, moving onto %s\") % (REGION_list[r], REGION_list[0])\n",
    "            r = 0\n",
    "        else:\n",
    "            print (\"rate limit reached at %s, moving onto %s\") % (REGION_list[r], REGION_list[r+1])\n",
    "            r += 1\n",
    "        i = 0\n",
    "        # My computer was slow at writing JSON files, so it took 10 seconds to come back to the same region\n",
    "        # If you're computer is super fast, uncomment the time.sleep below (you probably shouldn't)\n",
    "        #time.sleep(1)"
   ]
  }
 ],
 "metadata": {
  "kernelspec": {
   "display_name": "Python 2",
   "language": "python",
   "name": "python2"
  },
  "language_info": {
   "codemirror_mode": {
    "name": "ipython",
    "version": 2
   },
   "file_extension": ".py",
   "mimetype": "text/x-python",
   "name": "python",
   "nbconvert_exporter": "python",
   "pygments_lexer": "ipython2",
   "version": "2.7.10"
  }
 },
 "nbformat": 4,
 "nbformat_minor": 0
}
