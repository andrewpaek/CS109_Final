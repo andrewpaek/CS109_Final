{
 "cells": [
  {
   "cell_type": "code",
   "execution_count": 21,
   "metadata": {
    "collapsed": false
   },
   "outputs": [
    {
     "name": "stdout",
     "output_type": "stream",
     "text": [
      "True\n",
      "yoyoyoyo\n",
      "Jax\n"
     ]
    }
   ],
   "source": [
    "from riotwatcher import RiotWatcher\n",
    "\n",
    "w = RiotWatcher('b00c992b-6fc1-4795-abcc-7db85c1b72fa')\n",
    "\n",
    "# check if we have API calls remaining\n",
    "print(w.can_make_request())\n",
    "\n",
    "me = w.get_summoner(name='Marigold')\n",
    "#print(me)\n",
    "\n",
    "# takes list of summoner ids as argument, supports up to 40 at a time\n",
    "# (limit enforced on riot's side, no warning from code)\n",
    "#my_mastery_pages = w.get_mastery_pages([me['id'])[str(me['id'])]\n",
    "# returns a dictionary, mapping from summoner_id to mastery pages\n",
    "# unfortunately, this dictionary can only have strings as keys,\n",
    "# so must convert id from a long to a string\n",
    "#print(my_mastery_pages)\n",
    "\n",
    "#my_ranked_stats = w.get_ranked_stats(me['id'])\n",
    "#print(my_ranked_stats)\n",
    "\n",
    "print \"yoyoyoyo\"\n",
    "\n",
    "#my_ranked_stats_last_season = w.get_ranked_stats(me['id'], season=5)\n",
    "#print(my_ranked_stats_last_season)\n",
    "\n",
    "# all static methods are prefaced with 'static'\n",
    "# static requests do not count against your request limit\n",
    "# but at the same time, they don't change often....\n",
    "static_champ_list = w.static_get_champion_list()\n",
    "print(static_champ_list['data']['Jax']['name'])\n",
    "\n",
    "# import new region code\n",
    "#from riotwatcher import EUROPE_WEST\n",
    "\n",
    "# request data from EUW\n",
    "#froggen = w.get_summoner(name='froggen', region=EUROPE_WEST)\n",
    "#print(froggen)\n",
    "\n",
    "# create watcher with EUW as its default region\n",
    "#euw = RiotWatcher('<your-api-key>', default_region=EUROPE_WEST)\n",
    "\n",
    "# proper way to send names with spaces is to remove them, still works with spaces though\n",
    "#xpeke = w.get_summoner(name='fnaticxmid')\n",
    "#print(xpeke)"
   ]
  }
 ],
 "metadata": {
  "kernelspec": {
   "display_name": "Python 2",
   "language": "python",
   "name": "python2"
  },
  "language_info": {
   "codemirror_mode": {
    "name": "ipython",
    "version": 2
   },
   "file_extension": ".py",
   "mimetype": "text/x-python",
   "name": "python",
   "nbconvert_exporter": "python",
   "pygments_lexer": "ipython2",
   "version": "2.7.10"
  }
 },
 "nbformat": 4,
 "nbformat_minor": 0
}
