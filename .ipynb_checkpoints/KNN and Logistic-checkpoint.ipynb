{
 "cells": [
  {
   "cell_type": "code",
   "execution_count": null,
   "metadata": {
    "collapsed": false
   },
   "outputs": [],
   "source": [
    "%matplotlib inline\n",
    "import numpy as np\n",
    "import scipy as sp\n",
    "import matplotlib as mpl\n",
    "import matplotlib.cm as cm\n",
    "import matplotlib.pyplot as plt\n",
    "import pandas as pd\n",
    "pd.set_option('display.width', 500)\n",
    "pd.set_option('display.max_columns', 100)\n",
    "pd.set_option('display.notebook_repr_html', True)\n",
    "import seaborn as sns\n",
    "sns.set_style(\"whitegrid\")\n",
    "sns.set_context(\"poster\")"
   ]
  },
  {
   "cell_type": "code",
   "execution_count": null,
   "metadata": {
    "collapsed": true
   },
   "outputs": [],
   "source": [
    "from sklearn.cluster import KMeans\n",
    "from sklearn.cross_validation import KFold\n",
    "\n",
    "#kf=KFold(Xtrain.shape[0], n_folds=10)\n",
    "\n",
    "#Xtrain: matrix of data where rows are players and columns are player statistics to act as features\n",
    "#k: number of clusters\n",
    "knn=KMeans(n_clusters=k)\n",
    "knn.fit(Xtrain)\n"
   ]
  },
  {
   "cell_type": "code",
   "execution_count": null,
   "metadata": {
    "collapsed": true
   },
   "outputs": [],
   "source": [
    "#two options for finding the best k: the following, and using the gap statistic\n",
    "\n",
    "#fit a new knn model for each k, find the inertia from each model, then minimize to find the k that gives the smallest intertia\n",
    "#Since we're not checking the \"accuracy\" of our classifier on a response variable not using a \n",
    "\n",
    "#could use k-fold cross validation: validate model using ith k on ith validation set after training on other sets\n",
    "#requires function to compute distance from centroid\n",
    "\n",
    "#or use GridSearch\n",
    "\n",
    "kp=[2,4,6,8,10,12,14,16,18,20]\n",
    "kdict={}\n",
    "\n",
    "for i in kp:\n",
    "    knn=KMeans(n_clusters=i)\n",
    "    knn.fit(X)\n",
    "    kdict[k]=knn.intertia_\n",
    "\n",
    "mink=min(kdict, key=kdict.get)"
   ]
  },
  {
   "cell_type": "code",
   "execution_count": null,
   "metadata": {
    "collapsed": true
   },
   "outputs": [],
   "source": [
    "from sklearn.linear_model import LogisticRegression\n",
    "clf=LogisticRegression(penalty=\"l1\")\n",
    "clflog, Xt, yt, Xt, yt = do_classify(clf, {'C': [0.001, 0.01, 0.1, 1.0, 10.0, 100.0] }, dftouse, lcols, u'RESP', 1, reuse_split=reuse_split)"
   ]
  }
 ],
 "metadata": {
  "kernelspec": {
   "display_name": "Python 2",
   "language": "python",
   "name": "python2"
  },
  "language_info": {
   "codemirror_mode": {
    "name": "ipython",
    "version": 2
   },
   "file_extension": ".py",
   "mimetype": "text/x-python",
   "name": "python",
   "nbconvert_exporter": "python",
   "pygments_lexer": "ipython2",
   "version": "2.7.10"
  }
 },
 "nbformat": 4,
 "nbformat_minor": 0
}
