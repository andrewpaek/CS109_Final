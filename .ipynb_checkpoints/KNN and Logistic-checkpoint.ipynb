{
 "cells": [
  {
   "cell_type": "code",
   "execution_count": 45,
   "metadata": {
    "collapsed": false
   },
   "outputs": [],
   "source": [
    "%matplotlib inline\n",
    "import numpy as np\n",
    "import scipy as sp\n",
    "import matplotlib as mpl\n",
    "import matplotlib.cm as cm\n",
    "import matplotlib.pyplot as plt\n",
    "import pandas as pd\n",
    "pd.set_option('display.width', 500)\n",
    "pd.set_option('display.max_columns', 100)\n",
    "pd.set_option('display.notebook_repr_html', True)\n",
    "import seaborn as sns\n",
    "sns.set_style(\"whitegrid\")\n",
    "sns.set_context(\"poster\")"
   ]
  },
  {
   "cell_type": "code",
   "execution_count": 46,
   "metadata": {
    "collapsed": false
   },
   "outputs": [],
   "source": [
    "data=pd.read_csv(\"training_reduced.csv\")"
   ]
  },
  {
   "cell_type": "code",
   "execution_count": 47,
   "metadata": {
    "collapsed": false
   },
   "outputs": [],
   "source": [
    "del data[' WardsPlaced']"
   ]
  },
  {
   "cell_type": "code",
   "execution_count": 48,
   "metadata": {
    "collapsed": false
   },
   "outputs": [
    {
     "data": {
      "text/html": [
       "<div>\n",
       "<table border=\"1\" class=\"dataframe\">\n",
       "  <thead>\n",
       "    <tr style=\"text-align: right;\">\n",
       "      <th></th>\n",
       "      <th>Win</th>\n",
       "      <th>FirstBlood</th>\n",
       "      <th>firstTower</th>\n",
       "      <th>firstTowerAssist</th>\n",
       "      <th>Kills</th>\n",
       "      <th>Assists</th>\n",
       "      <th>Deaths</th>\n",
       "      <th>GoldEarned</th>\n",
       "      <th>GoldSpent</th>\n",
       "      <th>TotalDamageDealt</th>\n",
       "      <th>MagicDamageDealt</th>\n",
       "      <th>PhysicalDamageDealt</th>\n",
       "      <th>TotalDamageTaken</th>\n",
       "      <th>MinionsKilled</th>\n",
       "      <th>CrowdControl</th>\n",
       "    </tr>\n",
       "  </thead>\n",
       "  <tbody>\n",
       "    <tr>\n",
       "      <th>1</th>\n",
       "      <td>1</td>\n",
       "      <td>1</td>\n",
       "      <td>0</td>\n",
       "      <td>0.795918</td>\n",
       "      <td>0.103448</td>\n",
       "      <td>0.000000</td>\n",
       "      <td>0.347708</td>\n",
       "      <td>0.401121</td>\n",
       "      <td>0.461271</td>\n",
       "      <td>0.687746</td>\n",
       "      <td>0.276611</td>\n",
       "      <td>0.465910</td>\n",
       "      <td>0.352403</td>\n",
       "      <td>0.893064</td>\n",
       "      <td>0</td>\n",
       "    </tr>\n",
       "    <tr>\n",
       "      <th>1</th>\n",
       "      <td>0</td>\n",
       "      <td>0</td>\n",
       "      <td>0</td>\n",
       "      <td>0.000000</td>\n",
       "      <td>0.137931</td>\n",
       "      <td>0.000000</td>\n",
       "      <td>0.147947</td>\n",
       "      <td>0.151480</td>\n",
       "      <td>0.168147</td>\n",
       "      <td>0.001366</td>\n",
       "      <td>0.303082</td>\n",
       "      <td>0.129585</td>\n",
       "      <td>0.180778</td>\n",
       "      <td>0.057803</td>\n",
       "      <td>0</td>\n",
       "    </tr>\n",
       "    <tr>\n",
       "      <th>1</th>\n",
       "      <td>0</td>\n",
       "      <td>0</td>\n",
       "      <td>0</td>\n",
       "      <td>0.081633</td>\n",
       "      <td>0.275862</td>\n",
       "      <td>0.333333</td>\n",
       "      <td>0.160100</td>\n",
       "      <td>0.160083</td>\n",
       "      <td>0.136714</td>\n",
       "      <td>0.201682</td>\n",
       "      <td>0.085087</td>\n",
       "      <td>0.150234</td>\n",
       "      <td>0.114416</td>\n",
       "      <td>0.005780</td>\n",
       "      <td>1</td>\n",
       "    </tr>\n",
       "    <tr>\n",
       "      <th>1</th>\n",
       "      <td>0</td>\n",
       "      <td>0</td>\n",
       "      <td>0</td>\n",
       "      <td>0.020408</td>\n",
       "      <td>0.103448</td>\n",
       "      <td>0.333333</td>\n",
       "      <td>0.153327</td>\n",
       "      <td>0.154869</td>\n",
       "      <td>0.073805</td>\n",
       "      <td>0.046111</td>\n",
       "      <td>0.096419</td>\n",
       "      <td>0.135249</td>\n",
       "      <td>0.137300</td>\n",
       "      <td>0.043353</td>\n",
       "      <td>0</td>\n",
       "    </tr>\n",
       "    <tr>\n",
       "      <th>1</th>\n",
       "      <td>0</td>\n",
       "      <td>0</td>\n",
       "      <td>0</td>\n",
       "      <td>0.102041</td>\n",
       "      <td>0.379310</td>\n",
       "      <td>0.333333</td>\n",
       "      <td>0.190918</td>\n",
       "      <td>0.132447</td>\n",
       "      <td>0.160064</td>\n",
       "      <td>0.063096</td>\n",
       "      <td>0.238801</td>\n",
       "      <td>0.119021</td>\n",
       "      <td>0.215103</td>\n",
       "      <td>0.000000</td>\n",
       "      <td>0</td>\n",
       "    </tr>\n",
       "  </tbody>\n",
       "</table>\n",
       "</div>"
      ],
      "text/plain": [
       "   Win   FirstBlood   firstTower   firstTowerAssist     Kills   Assists    Deaths   GoldEarned   GoldSpent   TotalDamageDealt   MagicDamageDealt   PhysicalDamageDealt   TotalDamageTaken   MinionsKilled   CrowdControl\n",
       "1    1            1            0           0.795918  0.103448  0.000000  0.347708     0.401121    0.461271           0.687746           0.276611              0.465910           0.352403        0.893064              0\n",
       "1    0            0            0           0.000000  0.137931  0.000000  0.147947     0.151480    0.168147           0.001366           0.303082              0.129585           0.180778        0.057803              0\n",
       "1    0            0            0           0.081633  0.275862  0.333333  0.160100     0.160083    0.136714           0.201682           0.085087              0.150234           0.114416        0.005780              1\n",
       "1    0            0            0           0.020408  0.103448  0.333333  0.153327     0.154869    0.073805           0.046111           0.096419              0.135249           0.137300        0.043353              0\n",
       "1    0            0            0           0.102041  0.379310  0.333333  0.190918     0.132447    0.160064           0.063096           0.238801              0.119021           0.215103        0.000000              0"
      ]
     },
     "execution_count": 48,
     "metadata": {},
     "output_type": "execute_result"
    }
   ],
   "source": [
    "data.head()"
   ]
  },
  {
   "cell_type": "code",
   "execution_count": 52,
   "metadata": {
    "collapsed": false
   },
   "outputs": [
    {
     "name": "stdout",
     "output_type": "stream",
     "text": [
      "-58.3318312238\n",
      "58.3318312238\n"
     ]
    }
   ],
   "source": [
    "from sklearn.cluster import KMeans\n",
    "from sklearn.cross_validation import KFold\n",
    "\n",
    "#kf=KFold(Xtrain.shape[0], n_folds=10)\n",
    "\n",
    "#Xtrain: matrix of data where rows are players and columns are player statistics to act as features\n",
    "#k: number of clusters\n",
    "knn=KMeans(n_clusters=12)\n",
    "knn.fit(data)\n",
    "print knn.score(data)\n",
    "print knn.inertia_"
   ]
  },
  {
   "cell_type": "code",
   "execution_count": 63,
   "metadata": {
    "collapsed": false
   },
   "outputs": [
    {
     "data": {
      "text/plain": [
       "GridSearchCV(cv=10, error_score='raise',\n",
       "       estimator=KMeans(copy_x=True, init='k-means++', max_iter=300, n_clusters=8, n_init=10,\n",
       "    n_jobs=1, precompute_distances='auto', random_state=None, tol=0.0001,\n",
       "    verbose=0),\n",
       "       fit_params={}, iid=True, loss_func=None, n_jobs=1,\n",
       "       param_grid={'n_clusters': [2, 4, 6, 8, 10, 12, 14, 16, 18, 20, 22, 24, 26, 28]},\n",
       "       pre_dispatch='2*n_jobs', refit=True, score_func=None, scoring=None,\n",
       "       verbose=0)"
      ]
     },
     "execution_count": 63,
     "metadata": {},
     "output_type": "execute_result"
    }
   ],
   "source": [
    "from sklearn.grid_search import GridSearchCV\n",
    "kn=KMeans()\n",
    "gs=GridSearchCV(kn, {'n_clusters': [2,4,6,8,10,12,14,16,18,20, 22, 24, 26, 28]}, cv=10)\n",
    "gs.fit(data)"
   ]
  },
  {
   "cell_type": "code",
   "execution_count": 62,
   "metadata": {
    "collapsed": false
   },
   "outputs": [
    {
     "data": {
      "text/plain": [
       "{'n_clusters': 20}"
      ]
     },
     "execution_count": 62,
     "metadata": {},
     "output_type": "execute_result"
    }
   ],
   "source": [
    "gs.best_params_"
   ]
  },
  {
   "cell_type": "code",
   "execution_count": 64,
   "metadata": {
    "collapsed": true
   },
   "outputs": [],
   "source": [
    "#test and training sets, Cross validation function\n",
    "from sklearn.cross_validation import train_test_split\n",
    "\n",
    "#number of folds f\n",
    "\n",
    "for i in range(f):\n",
    "    itrain, itest = train_test_split(xrange(data.shape[0]), train_size=0.7)\n",
    "    mask=np.ones(data.shape[0], dtype='int')\n",
    "    mask[itrain]=1\n",
    "    mask[itest]=0\n",
    "    mask = (mask==1)\n",
    "    \n",
    "    "
   ]
  },
  {
   "cell_type": "code",
   "execution_count": 110,
   "metadata": {
    "collapsed": false
   },
   "outputs": [],
   "source": [
    "#two options for finding the best k: the following, and using the gap statistic\n",
    "\n",
    "#fit a new knn model for each k, find the inertia from each model, then minimize to find the k that gives the smallest intertia\n",
    "#Since we're not checking the \"accuracy\" of our classifier on a response variable not using a \n",
    "\n",
    "#could use k-fold cross validation: validate model using ith k on ith validation set after training on other sets\n",
    "#requires function to compute distance from centroid\n",
    "\n",
    "#or use GridSearch\n",
    "\n",
    "#k isn't converging for some reason\n",
    "\n",
    "kp=[2,4,6,8,10,12,14,16,18,20, 22, 24, 30, 40]\n",
    "kdict={}\n",
    "\n",
    "for i in kp:\n",
    "    knn=KMeans(n_clusters=i)\n",
    "    knn.fit(data)\n",
    "    kdict[i]=(knn.inertia_)\n",
    "\n",
    "mink=min(kdict, key=kdict.get)"
   ]
  },
  {
   "cell_type": "code",
   "execution_count": 111,
   "metadata": {
    "collapsed": false
   },
   "outputs": [
    {
     "name": "stdout",
     "output_type": "stream",
     "text": [
      "[2, 4, 6, 8, 10, 12, 14, 16, 18, 20, 22, 24, 30, 40]\n",
      "[131.50303861178313, 101.54065717477829, 81.964953179223883, 70.664233998329991, 63.131953974485484, 58.276552310287641, 53.600674106200543, 50.71694059076647, 47.63403520878888, 44.853594961208643, 42.88961336729156, 40.049299669921247, 34.578872785990711, 28.9772265622803]\n"
     ]
    }
   ],
   "source": [
    "keylist=kdict.keys()\n",
    "keylist.sort()\n",
    "print keylist\n",
    "vallist=kdict.values()\n",
    "vallist=[-1*i for i in vallist]\n",
    "vallist.sort()\n",
    "vallist=[-1*i for i in vallist]\n",
    "print vallist"
   ]
  },
  {
   "cell_type": "code",
   "execution_count": 112,
   "metadata": {
    "collapsed": false
   },
   "outputs": [
    {
     "data": {
      "text/plain": [
       "<matplotlib.lines.Line2D at 0x1f713b70>"
      ]
     },
     "execution_count": 112,
     "metadata": {},
     "output_type": "execute_result"
    },
    {
     "data": {
      "image/png": "[encoded data removed]",
      "text/plain": [
       "<matplotlib.figure.Figure at 0x21c3af60>"
      ]
     },
     "metadata": {},
     "output_type": "display_data"
    }
   ],
   "source": [
    "#elbow method for finding k\n",
    "plt.plot(keylist, vallist, 'o-')\n",
    "plt.axvline(12)"
   ]
  },
  {
   "cell_type": "code",
   "execution_count": 109,
   "metadata": {
    "collapsed": false
   },
   "outputs": [
    {
     "ename": "NameError",
     "evalue": "global name 'find_centers' is not defined",
     "output_type": "error",
     "traceback": [
      "\u001b[1;31m---------------------------------------------------------------------------\u001b[0m",
      "\u001b[1;31mNameError\u001b[0m                                 Traceback (most recent call last)",
      "\u001b[1;32m<ipython-input-109-dc4dac87e383>\u001b[0m in \u001b[0;36m<module>\u001b[1;34m()\u001b[0m\n\u001b[0;32m     34\u001b[0m     \u001b[1;32mreturn\u001b[0m\u001b[1;33m(\u001b[0m\u001b[0mks\u001b[0m\u001b[1;33m,\u001b[0m \u001b[0mWks\u001b[0m\u001b[1;33m,\u001b[0m \u001b[0mWkbs\u001b[0m\u001b[1;33m,\u001b[0m \u001b[0msk\u001b[0m\u001b[1;33m)\u001b[0m\u001b[1;33m\u001b[0m\u001b[0m\n\u001b[0;32m     35\u001b[0m \u001b[1;33m\u001b[0m\u001b[0m\n\u001b[1;32m---> 36\u001b[1;33m \u001b[0mks\u001b[0m\u001b[1;33m,\u001b[0m \u001b[0mlogWks\u001b[0m\u001b[1;33m,\u001b[0m \u001b[0mlogWkbs\u001b[0m\u001b[1;33m,\u001b[0m \u001b[0msk\u001b[0m \u001b[1;33m=\u001b[0m \u001b[0mgap_statistic\u001b[0m\u001b[1;33m(\u001b[0m\u001b[0mdata\u001b[0m\u001b[1;33m)\u001b[0m\u001b[1;33m\u001b[0m\u001b[0m\n\u001b[0m",
      "\u001b[1;32m<ipython-input-109-dc4dac87e383>\u001b[0m in \u001b[0;36mgap_statistic\u001b[1;34m(X)\u001b[0m\n\u001b[0;32m     16\u001b[0m     \u001b[0msk\u001b[0m \u001b[1;33m=\u001b[0m \u001b[0mnp\u001b[0m\u001b[1;33m.\u001b[0m\u001b[0mzeros\u001b[0m\u001b[1;33m(\u001b[0m\u001b[0mlen\u001b[0m\u001b[1;33m(\u001b[0m\u001b[0mks\u001b[0m\u001b[1;33m)\u001b[0m\u001b[1;33m)\u001b[0m\u001b[1;33m\u001b[0m\u001b[0m\n\u001b[0;32m     17\u001b[0m     \u001b[1;32mfor\u001b[0m \u001b[0mindk\u001b[0m\u001b[1;33m,\u001b[0m \u001b[0mk\u001b[0m \u001b[1;32min\u001b[0m \u001b[0menumerate\u001b[0m\u001b[1;33m(\u001b[0m\u001b[0mks\u001b[0m\u001b[1;33m)\u001b[0m\u001b[1;33m:\u001b[0m\u001b[1;33m\u001b[0m\u001b[0m\n\u001b[1;32m---> 18\u001b[1;33m         \u001b[0mmu\u001b[0m\u001b[1;33m,\u001b[0m \u001b[0mclusters\u001b[0m \u001b[1;33m=\u001b[0m \u001b[0mfind_centers\u001b[0m\u001b[1;33m(\u001b[0m\u001b[0mX\u001b[0m\u001b[1;33m,\u001b[0m\u001b[0mk\u001b[0m\u001b[1;33m)\u001b[0m\u001b[1;33m\u001b[0m\u001b[0m\n\u001b[0m\u001b[0;32m     19\u001b[0m         \u001b[0mWks\u001b[0m\u001b[1;33m[\u001b[0m\u001b[0mindk\u001b[0m\u001b[1;33m]\u001b[0m \u001b[1;33m=\u001b[0m \u001b[0mnp\u001b[0m\u001b[1;33m.\u001b[0m\u001b[0mlog\u001b[0m\u001b[1;33m(\u001b[0m\u001b[0mWk\u001b[0m\u001b[1;33m(\u001b[0m\u001b[0mmu\u001b[0m\u001b[1;33m,\u001b[0m \u001b[0mclusters\u001b[0m\u001b[1;33m)\u001b[0m\u001b[1;33m)\u001b[0m\u001b[1;33m\u001b[0m\u001b[0m\n\u001b[0;32m     20\u001b[0m         \u001b[1;31m# Create B reference datasets\u001b[0m\u001b[1;33m\u001b[0m\u001b[1;33m\u001b[0m\u001b[0m\n",
      "\u001b[1;31mNameError\u001b[0m: global name 'find_centers' is not defined"
     ]
    }
   ],
   "source": [
    "#https://datasciencelab.wordpress.com/2013/12/27/finding-the-k-in-k-means-clustering/\n",
    "#https://www.quora.com/How-can-we-choose-a-good-K-for-K-means-clustering   \n",
    "def Wk(mu, clusters):\n",
    "    K = len(mu)\n",
    "    return sum([np.linalg.norm(mu[i]-c)**2/(2*len(c)) \\\n",
    "               for i in range(K) for c in clusters[i]])\n",
    "\n",
    "def bounding_box(X):\n",
    "    xmin, xmax = min(X,key=lambda a:a[0])[0], max(X,key=lambda a:a[0])[0]\n",
    "    ymin, ymax = min(X,key=lambda a:a[1])[1], max(X,key=lambda a:a[1])[1]\n",
    "    return (xmin,xmax), (ymin,ymax)\n",
    "\n",
    "def gap_statistic(X):\n",
    "    (xmin,xmax), (ymin,ymax) = bounding_box(X)\n",
    "    # Dispersion for real distribution\n",
    "    ks = range(1,10)\n",
    "    Wks = np.zeros(len(ks))\n",
    "    Wkbs = np.zeros(len(ks))\n",
    "    sk = np.zeros(len(ks))\n",
    "    for indk, k in enumerate(ks):\n",
    "        mu, clusters = find_centers(X,k)\n",
    "        Wks[indk] = np.log(Wk(mu, clusters))\n",
    "        # Create B reference datasets\n",
    "        B = 10\n",
    "        BWkbs = zeros(B)\n",
    "        for i in range(B):\n",
    "            Xb = []\n",
    "            for n in range(len(X)):\n",
    "                Xb.append([random.uniform(xmin,xmax),\n",
    "                          random.uniform(ymin,ymax)])\n",
    "            Xb = np.array(Xb)\n",
    "            mu, clusters = find_centers(Xb,k)\n",
    "            BWkbs[i] = np.log(Wk(mu, clusters))\n",
    "        Wkbs[indk] = sum(BWkbs)/B\n",
    "        sk[indk] = np.sqrt(sum((BWkbs-Wkbs[indk])**2)/B)\n",
    "    sk = sk*np.sqrt(1+1/B)\n",
    "    return(ks, Wks, Wkbs, sk)\n",
    "\n",
    "ks, logWks, logWkbs, sk = gap_statistic(data)"
   ]
  },
  {
   "cell_type": "code",
   "execution_count": null,
   "metadata": {
    "collapsed": true
   },
   "outputs": [],
   "source": [
    "from sklearn.linear_model import LogisticRegression\n",
    "clf=LogisticRegression(penalty=\"l1\")\n",
    "clflog, Xt, yt, Xt, yt = do_classify(clf, {'C': [0.001, 0.01, 0.1, 1.0, 10.0, 100.0] }, dftouse, lcols, u'RESP', 1, reuse_split=reuse_split)"
   ]
  }
 ],
 "metadata": {
  "kernelspec": {
   "display_name": "Python 2",
   "language": "python",
   "name": "python2"
  },
  "language_info": {
   "codemirror_mode": {
    "name": "ipython",
    "version": 2
   },
   "file_extension": ".py",
   "mimetype": "text/x-python",
   "name": "python",
   "nbconvert_exporter": "python",
   "pygments_lexer": "ipython2",
   "version": "2.7.10"
  }
 },
 "nbformat": 4,
 "nbformat_minor": 0
}
