{
 "cells": [
  {
   "cell_type": "markdown",
   "metadata": {},
   "source": [
    "# Data of Legends"
   ]
  },
  {
   "cell_type": "code",
   "execution_count": 34,
   "metadata": {
    "collapsed": true
   },
   "outputs": [],
   "source": [
    "%matplotlib inline\n",
    "import numpy as np\n",
    "import scipy as sp\n",
    "import matplotlib as mpl\n",
    "import matplotlib.cm as cm\n",
    "import matplotlib.pyplot as plt\n",
    "import pandas as pd\n",
    "pd.set_option('display.width', 500)\n",
    "pd.set_option('display.max_columns', 100)\n",
    "pd.set_option('display.notebook_repr_html', True)\n",
    "import seaborn as sns\n",
    "sns.set_style(\"whitegrid\")\n",
    "sns.set_context(\"poster\")"
   ]
  },
  {
   "cell_type": "code",
   "execution_count": 44,
   "metadata": {
    "collapsed": false
   },
   "outputs": [
    {
     "data": {
      "text/html": [
       "<div>\n",
       "<table border=\"1\" class=\"dataframe\">\n",
       "  <thead>\n",
       "    <tr style=\"text-align: right;\">\n",
       "      <th></th>\n",
       "      <th>Win</th>\n",
       "      <th>FirstBlood</th>\n",
       "      <th>FirstTower</th>\n",
       "      <th>FirstTowerAssist</th>\n",
       "      <th>Kills</th>\n",
       "      <th>Assists</th>\n",
       "      <th>Deaths</th>\n",
       "      <th>GoldEarned</th>\n",
       "      <th>TotalDamageDealt</th>\n",
       "      <th>MagicDamageDealt</th>\n",
       "      <th>PhysicalDamageDealt</th>\n",
       "      <th>TotalDamageDealtToChampions</th>\n",
       "      <th>TotalDamageTaken</th>\n",
       "      <th>MinionsKilled</th>\n",
       "      <th>NeutralMinionsKilled</th>\n",
       "      <th>CrowdControl</th>\n",
       "      <th>WardsPlaced</th>\n",
       "      <th>TowerKills</th>\n",
       "      <th>LargestMultiKill</th>\n",
       "      <th>LargestKillingSpree</th>\n",
       "      <th>LargestCritStrike</th>\n",
       "      <th>TotalHealAmount</th>\n",
       "    </tr>\n",
       "  </thead>\n",
       "  <tbody>\n",
       "    <tr>\n",
       "      <th>0</th>\n",
       "      <td>1</td>\n",
       "      <td>0.1</td>\n",
       "      <td>0.1</td>\n",
       "      <td>0</td>\n",
       "      <td>0.795918</td>\n",
       "      <td>0.103448</td>\n",
       "      <td>0.000000</td>\n",
       "      <td>0.347708</td>\n",
       "      <td>0.461271</td>\n",
       "      <td>0.687746</td>\n",
       "      <td>0.276611</td>\n",
       "      <td>0.467285</td>\n",
       "      <td>0.465910</td>\n",
       "      <td>0.352403</td>\n",
       "      <td>0.928571</td>\n",
       "      <td>0.893064</td>\n",
       "      <td>0</td>\n",
       "      <td>0.4</td>\n",
       "      <td>1</td>\n",
       "      <td>1</td>\n",
       "      <td>0</td>\n",
       "      <td>0.507346</td>\n",
       "    </tr>\n",
       "    <tr>\n",
       "      <th>1</th>\n",
       "      <td>1</td>\n",
       "      <td>0.0</td>\n",
       "      <td>0.0</td>\n",
       "      <td>0</td>\n",
       "      <td>0.000000</td>\n",
       "      <td>0.137931</td>\n",
       "      <td>0.000000</td>\n",
       "      <td>0.147947</td>\n",
       "      <td>0.168147</td>\n",
       "      <td>0.001366</td>\n",
       "      <td>0.303082</td>\n",
       "      <td>0.137629</td>\n",
       "      <td>0.129585</td>\n",
       "      <td>0.180778</td>\n",
       "      <td>0.000000</td>\n",
       "      <td>0.057803</td>\n",
       "      <td>0</td>\n",
       "      <td>0.0</td>\n",
       "      <td>0</td>\n",
       "      <td>0</td>\n",
       "      <td>0</td>\n",
       "      <td>0.000000</td>\n",
       "    </tr>\n",
       "    <tr>\n",
       "      <th>2</th>\n",
       "      <td>1</td>\n",
       "      <td>0.0</td>\n",
       "      <td>0.0</td>\n",
       "      <td>0</td>\n",
       "      <td>0.081633</td>\n",
       "      <td>0.275862</td>\n",
       "      <td>0.333333</td>\n",
       "      <td>0.160100</td>\n",
       "      <td>0.136714</td>\n",
       "      <td>0.201682</td>\n",
       "      <td>0.085087</td>\n",
       "      <td>0.147560</td>\n",
       "      <td>0.150234</td>\n",
       "      <td>0.114416</td>\n",
       "      <td>0.000000</td>\n",
       "      <td>0.005780</td>\n",
       "      <td>1</td>\n",
       "      <td>0.0</td>\n",
       "      <td>0</td>\n",
       "      <td>0</td>\n",
       "      <td>0</td>\n",
       "      <td>0.000000</td>\n",
       "    </tr>\n",
       "    <tr>\n",
       "      <th>3</th>\n",
       "      <td>1</td>\n",
       "      <td>0.0</td>\n",
       "      <td>0.0</td>\n",
       "      <td>0</td>\n",
       "      <td>0.020408</td>\n",
       "      <td>0.103448</td>\n",
       "      <td>0.333333</td>\n",
       "      <td>0.153327</td>\n",
       "      <td>0.073805</td>\n",
       "      <td>0.046111</td>\n",
       "      <td>0.096419</td>\n",
       "      <td>0.066531</td>\n",
       "      <td>0.135249</td>\n",
       "      <td>0.137300</td>\n",
       "      <td>0.000000</td>\n",
       "      <td>0.043353</td>\n",
       "      <td>0</td>\n",
       "      <td>0.2</td>\n",
       "      <td>0</td>\n",
       "      <td>0</td>\n",
       "      <td>0</td>\n",
       "      <td>0.492654</td>\n",
       "    </tr>\n",
       "    <tr>\n",
       "      <th>4</th>\n",
       "      <td>1</td>\n",
       "      <td>0.0</td>\n",
       "      <td>0.0</td>\n",
       "      <td>0</td>\n",
       "      <td>0.102041</td>\n",
       "      <td>0.379310</td>\n",
       "      <td>0.333333</td>\n",
       "      <td>0.190918</td>\n",
       "      <td>0.160064</td>\n",
       "      <td>0.063096</td>\n",
       "      <td>0.238801</td>\n",
       "      <td>0.180996</td>\n",
       "      <td>0.119021</td>\n",
       "      <td>0.215103</td>\n",
       "      <td>0.071429</td>\n",
       "      <td>0.000000</td>\n",
       "      <td>0</td>\n",
       "      <td>0.4</td>\n",
       "      <td>0</td>\n",
       "      <td>0</td>\n",
       "      <td>0</td>\n",
       "      <td>0.000000</td>\n",
       "    </tr>\n",
       "  </tbody>\n",
       "</table>\n",
       "</div>"
      ],
      "text/plain": [
       "   Win   FirstBlood   FirstTower   FirstTowerAssist     Kills   Assists    Deaths   GoldEarned   TotalDamageDealt   MagicDamageDealt   PhysicalDamageDealt  TotalDamageDealtToChampions   TotalDamageTaken   MinionsKilled   NeutralMinionsKilled  CrowdControl   WardsPlaced   TowerKills   LargestMultiKill   LargestKillingSpree   LargestCritStrike   TotalHealAmount\n",
       "0    1          0.1          0.1                  0  0.795918  0.103448  0.000000     0.347708           0.461271           0.687746              0.276611                     0.467285           0.465910        0.352403               0.928571      0.893064             0          0.4                  1                     1                   0          0.507346\n",
       "1    1          0.0          0.0                  0  0.000000  0.137931  0.000000     0.147947           0.168147           0.001366              0.303082                     0.137629           0.129585        0.180778               0.000000      0.057803             0          0.0                  0                     0                   0          0.000000\n",
       "2    1          0.0          0.0                  0  0.081633  0.275862  0.333333     0.160100           0.136714           0.201682              0.085087                     0.147560           0.150234        0.114416               0.000000      0.005780             1          0.0                  0                     0                   0          0.000000\n",
       "3    1          0.0          0.0                  0  0.020408  0.103448  0.333333     0.153327           0.073805           0.046111              0.096419                     0.066531           0.135249        0.137300               0.000000      0.043353             0          0.2                  0                     0                   0          0.492654\n",
       "4    1          0.0          0.0                  0  0.102041  0.379310  0.333333     0.190918           0.160064           0.063096              0.238801                     0.180996           0.119021        0.215103               0.071429      0.000000             0          0.4                  0                     0                   0          0.000000"
      ]
     },
     "execution_count": 44,
     "metadata": {},
     "output_type": "execute_result"
    }
   ],
   "source": [
    "df=pd.read_csv(\"./training_full_v3.csv\")\n",
    "df.head()"
   ]
  },
  {
   "cell_type": "markdown",
   "metadata": {},
   "source": [
    "## SVM"
   ]
  },
  {
   "cell_type": "code",
   "execution_count": 45,
   "metadata": {
    "collapsed": false
   },
   "outputs": [],
   "source": [
    "dftouse=df.copy()\n",
    "del dftouse[\" WardsPlaced\"]"
   ]
  },
  {
   "cell_type": "markdown",
   "metadata": {},
   "source": [
    "### Mask"
   ]
  },
  {
   "cell_type": "code",
   "execution_count": 46,
   "metadata": {
    "collapsed": true
   },
   "outputs": [],
   "source": [
    "from sklearn.cross_validation import train_test_split\n",
    "itrain, itest = train_test_split(xrange(dftouse.shape[0]), train_size=0.7)"
   ]
  },
  {
   "cell_type": "code",
   "execution_count": 47,
   "metadata": {
    "collapsed": true
   },
   "outputs": [],
   "source": [
    "mask=np.ones(dftouse.shape[0], dtype='int')\n",
    "mask[itrain]=1\n",
    "mask[itest]=0\n",
    "mask = (mask==1)"
   ]
  },
  {
   "cell_type": "code",
   "execution_count": 48,
   "metadata": {
    "collapsed": false
   },
   "outputs": [
    {
     "name": "stdout",
     "output_type": "stream",
     "text": [
      "20\n"
     ]
    }
   ],
   "source": [
    "lcols=list(dftouse.columns)\n",
    "lcols.remove(\"Win\")\n",
    "print len(lcols)"
   ]
  },
  {
   "cell_type": "code",
   "execution_count": 49,
   "metadata": {
    "collapsed": false
   },
   "outputs": [],
   "source": [
    "from sklearn.svm import LinearSVC\n",
    "\n",
    "clfsvm=LinearSVC(loss=\"hinge\")\n",
    "Cs=[0.001, 0.01, 0.1, 1.0, 10.0, 100.0]\n",
    "Xmatrix=dftouse[lcols].values\n",
    "Yresp=dftouse[\"Win\"].values"
   ]
  },
  {
   "cell_type": "code",
   "execution_count": 50,
   "metadata": {
    "collapsed": false
   },
   "outputs": [],
   "source": [
    "Xmatrix_train=Xmatrix[mask]\n",
    "Xmatrix_test=Xmatrix[~mask]\n",
    "Yresp_train=Yresp[mask]\n",
    "Yresp_test=Yresp[~mask]"
   ]
  },
  {
   "cell_type": "code",
   "execution_count": 51,
   "metadata": {
    "collapsed": true
   },
   "outputs": [],
   "source": [
    "from sklearn.grid_search import GridSearchCV\n",
    "\n",
    "gs = GridSearchCV(clfsvm, param_grid={'C':Cs}, cv=5, scoring=\"accuracy\")\n",
    "gs.fit(Xmatrix_train, Yresp_train)\n",
    "best = gs.best_params_['C']"
   ]
  },
  {
   "cell_type": "code",
   "execution_count": 52,
   "metadata": {
    "collapsed": false
   },
   "outputs": [
    {
     "data": {
      "text/plain": [
       "0.64004917288008767"
      ]
     },
     "execution_count": 52,
     "metadata": {},
     "output_type": "execute_result"
    }
   ],
   "source": [
    "from sklearn.metrics import accuracy_score\n",
    "\n",
    "clf = LinearSVC(C=best)\n",
    "clf.fit(Xmatrix_train, Yresp_train)\n",
    "accuracy_score(clf.predict(Xmatrix_test), Yresp_test)"
   ]
  },
  {
   "cell_type": "code",
   "execution_count": null,
   "metadata": {
    "collapsed": true
   },
   "outputs": [],
   "source": []
  }
 ],
 "metadata": {
  "kernelspec": {
   "display_name": "Python 2",
   "language": "python",
   "name": "python2"
  },
  "language_info": {
   "codemirror_mode": {
    "name": "ipython",
    "version": 2
   },
   "file_extension": ".py",
   "mimetype": "text/x-python",
   "name": "python",
   "nbconvert_exporter": "python",
   "pygments_lexer": "ipython2",
   "version": "2.7.10"
  }
 },
 "nbformat": 4,
 "nbformat_minor": 0
}
